{
 "cells": [
  {
   "cell_type": "markdown",
   "id": "ab46ddfb",
   "metadata": {},
   "source": [
    "# @author: @ruhend (Himansh Mudigonda)\n",
    "# Day 1"
   ]
  },
  {
   "cell_type": "markdown",
   "id": "36514dd4",
   "metadata": {},
   "source": [
    "# Today's Learnings\n",
    "1. Introduction \n",
    "    1. Why python\n",
    "    2. How to install\n",
    "    3. Setup python developer environment\n",
    "2. Hello World!\n",
    "3. Datatypes and Variables\n",
    "4. Print Statements\n",
    "5. Operators\n",
    "6. String Operations\n",
    "7. Type Casting\n",
    "8. User Input\n",
    "9. Math Modules\n",
    "10. String Slicing"
   ]
  },
  {
   "cell_type": "markdown",
   "id": "bf25b4cb",
   "metadata": {},
   "source": [
    "# Introduction"
   ]
  },
  {
   "cell_type": "markdown",
   "id": "a7c7b875",
   "metadata": {},
   "source": [
    "## Why python"
   ]
  },
  {
   "cell_type": "markdown",
   "id": "e778e561",
   "metadata": {},
   "source": [
    "1. Python is beginner-friendly\n",
    "2. Python is versatile\n",
    "3. Python dev roles are high in demand\n",
    "4. Python has an amazing developer community\n",
    "5. Python is the fastest growing programming language"
   ]
  },
  {
   "cell_type": "markdown",
   "id": "fd101740",
   "metadata": {},
   "source": [
    "## How to install"
   ]
  },
  {
   "cell_type": "markdown",
   "id": "d1a8f246",
   "metadata": {},
   "source": [
    "1. Goto https://www.python.org/downloads/\n",
    "2. Download and install the latest version\n",
    "3. Goto https://www.anaconda.com\n",
    "4. Download and install anaconda\n",
    "5. Install pip3 (should have been already installed.)\n",
    "6. ```pip3 install --upgrade pip3```. This upgrades your pip3 version to the latest version\n",
    "\n",
    "\n",
    "NOTE: make sure you have selected to update your $PATH variable.\n"
   ]
  },
  {
   "cell_type": "markdown",
   "id": "70ec44f4",
   "metadata": {},
   "source": [
    "## Setup python developer environment"
   ]
  },
  {
   "cell_type": "markdown",
   "id": "835c406f",
   "metadata": {},
   "source": [
    "1. ```python3 -m venv /path/to/workspace```"
   ]
  },
  {
   "cell_type": "markdown",
   "id": "848f247a",
   "metadata": {},
   "source": [
    "# Hello world"
   ]
  },
  {
   "cell_type": "code",
   "execution_count": 1,
   "id": "558a998a",
   "metadata": {},
   "outputs": [
    {
     "name": "stdout",
     "output_type": "stream",
     "text": [
      "Hello World!\n"
     ]
    }
   ],
   "source": [
    "print(\"Hello World!\")"
   ]
  },
  {
   "cell_type": "markdown",
   "id": "0ef334d4",
   "metadata": {},
   "source": [
    "# Datatypes and Variables"
   ]
  },
  {
   "cell_type": "markdown",
   "id": "c2f9e59d",
   "metadata": {},
   "source": [
    "A Variable is a container for a value. It behaves as the value that it contains"
   ]
  },
  {
   "cell_type": "markdown",
   "id": "ac3cb0c0",
   "metadata": {},
   "source": [
    "## Integer"
   ]
  },
  {
   "cell_type": "code",
   "execution_count": 2,
   "id": "a0d3a5e5",
   "metadata": {},
   "outputs": [
    {
     "data": {
      "text/plain": [
       "int"
      ]
     },
     "execution_count": 2,
     "metadata": {},
     "output_type": "execute_result"
    }
   ],
   "source": [
    "a = 10\n",
    "type(a)"
   ]
  },
  {
   "cell_type": "markdown",
   "id": "246c71e7",
   "metadata": {},
   "source": [
    "## Float"
   ]
  },
  {
   "cell_type": "code",
   "execution_count": 3,
   "id": "bae6810a",
   "metadata": {},
   "outputs": [
    {
     "data": {
      "text/plain": [
       "float"
      ]
     },
     "execution_count": 3,
     "metadata": {},
     "output_type": "execute_result"
    }
   ],
   "source": [
    "a = 42.32\n",
    "type(a)"
   ]
  },
  {
   "cell_type": "markdown",
   "id": "b5f4ef6d",
   "metadata": {},
   "source": [
    "## String"
   ]
  },
  {
   "cell_type": "code",
   "execution_count": 4,
   "id": "1f9d690a",
   "metadata": {},
   "outputs": [
    {
     "data": {
      "text/plain": [
       "str"
      ]
     },
     "execution_count": 4,
     "metadata": {},
     "output_type": "execute_result"
    }
   ],
   "source": [
    "a = \"Hello world\"\n",
    "type(a)"
   ]
  },
  {
   "cell_type": "markdown",
   "id": "630f8b6d",
   "metadata": {},
   "source": [
    "## Boolean"
   ]
  },
  {
   "cell_type": "code",
   "execution_count": 5,
   "id": "4d0a9383",
   "metadata": {},
   "outputs": [
    {
     "data": {
      "text/plain": [
       "bool"
      ]
     },
     "execution_count": 5,
     "metadata": {},
     "output_type": "execute_result"
    }
   ],
   "source": [
    "a = True\n",
    "type(a)"
   ]
  },
  {
   "cell_type": "markdown",
   "id": "61663fdd",
   "metadata": {},
   "source": [
    "## List"
   ]
  },
  {
   "cell_type": "code",
   "execution_count": 6,
   "id": "0be59e72",
   "metadata": {},
   "outputs": [
    {
     "data": {
      "text/plain": [
       "list"
      ]
     },
     "execution_count": 6,
     "metadata": {},
     "output_type": "execute_result"
    }
   ],
   "source": [
    "sample_list = ['the', 'big', 'brown', 'fox']\n",
    "type(sample_list)"
   ]
  },
  {
   "cell_type": "markdown",
   "id": "8ea40b4b",
   "metadata": {},
   "source": [
    "## Dictionary"
   ]
  },
  {
   "cell_type": "code",
   "execution_count": 7,
   "id": "bab12426",
   "metadata": {},
   "outputs": [
    {
     "data": {
      "text/plain": [
       "dict"
      ]
     },
     "execution_count": 7,
     "metadata": {},
     "output_type": "execute_result"
    }
   ],
   "source": [
    "x = {\"name\" : \"John\", \"age\" : 36}\n",
    "type(x)"
   ]
  },
  {
   "cell_type": "markdown",
   "id": "2ccc44ea",
   "metadata": {},
   "source": [
    "## Set"
   ]
  },
  {
   "cell_type": "code",
   "execution_count": 8,
   "id": "30b46c0c",
   "metadata": {},
   "outputs": [
    {
     "data": {
      "text/plain": [
       "set"
      ]
     },
     "execution_count": 8,
     "metadata": {},
     "output_type": "execute_result"
    }
   ],
   "source": [
    "x = {\"apple\", \"banana\", \"cherry\"}\n",
    "type (x)"
   ]
  },
  {
   "cell_type": "markdown",
   "id": "8df717c2",
   "metadata": {},
   "source": [
    "## Range"
   ]
  },
  {
   "cell_type": "code",
   "execution_count": 9,
   "id": "a5836aaf",
   "metadata": {},
   "outputs": [
    {
     "data": {
      "text/plain": [
       "range"
      ]
     },
     "execution_count": 9,
     "metadata": {},
     "output_type": "execute_result"
    }
   ],
   "source": [
    "x = range(6)\n",
    "type(x)"
   ]
  },
  {
   "cell_type": "markdown",
   "id": "0d4eb6da",
   "metadata": {},
   "source": [
    "## None"
   ]
  },
  {
   "cell_type": "code",
   "execution_count": 10,
   "id": "e05e523d",
   "metadata": {},
   "outputs": [
    {
     "data": {
      "text/plain": [
       "NoneType"
      ]
     },
     "execution_count": 10,
     "metadata": {},
     "output_type": "execute_result"
    }
   ],
   "source": [
    "x = None\n",
    "type(x)"
   ]
  },
  {
   "cell_type": "markdown",
   "id": "e731b72d",
   "metadata": {},
   "source": [
    "# Print formats"
   ]
  },
  {
   "cell_type": "code",
   "execution_count": 11,
   "id": "202d9de4",
   "metadata": {},
   "outputs": [
    {
     "name": "stdout",
     "output_type": "stream",
     "text": [
      "Hi, My name is himansh . My ID is 169 and am 20 years old.\n",
      "Hi, My name is himansh. My ID is 169 and am 20 years old.\n",
      "Hi, My name is himansh. My ID is 169 and am 20 years old.\n",
      "Hi, My name is himansh. My ID is 169 and am 20 years old.\n"
     ]
    }
   ],
   "source": [
    "name, age, id = 'himansh', 20, 169\n",
    "\n",
    "print(\"Hi, My name is\", name,\". My ID is\",id,\"and am\", age, \"years old.\")\n",
    "print(\"Hi, My name is \"+ name+\". My ID is \"+str(id)+\" and am \"+ str(age)+ \" years old.\")\n",
    "\n",
    "print(f\"Hi, My name is {name}. My ID is {id} and am {age} years old.\")\n",
    "print('Hi, My name is {}. My ID is {} and am {} years old.'.format(name, id, age))"
   ]
  },
  {
   "cell_type": "markdown",
   "id": "862b7c81",
   "metadata": {},
   "source": [
    "Here we can see that the format option is a lot better than the other two. Hence, for most programs, developers tend to use the format option to print of debug the code."
   ]
  },
  {
   "cell_type": "markdown",
   "id": "704afc3f",
   "metadata": {},
   "source": [
    "# Operations in Python"
   ]
  },
  {
   "cell_type": "markdown",
   "id": "b216b3cf",
   "metadata": {},
   "source": [
    "Python operators are of the following types\n",
    "- Arithmetic\n",
    "- Assignment\n",
    "- Comparision\n",
    "- Logical\n",
    "- Identity\n",
    "- Membership\n",
    "- Bitwise"
   ]
  },
  {
   "cell_type": "markdown",
   "id": "68206f71",
   "metadata": {},
   "source": [
    "## Arithmetic Operator\n",
    "In arithmetic, there are 7 types\n",
    "1. Addition\n",
    "2. Subtraction\n",
    "3. Multiplication\n",
    "4. Division\n",
    "5. Floor Division\n",
    "6. Exponentiation\n",
    "7. Modulus"
   ]
  },
  {
   "cell_type": "code",
   "execution_count": 12,
   "id": "cabbaf35",
   "metadata": {},
   "outputs": [
    {
     "data": {
      "text/plain": [
       "(10, 20)"
      ]
     },
     "execution_count": 12,
     "metadata": {},
     "output_type": "execute_result"
    }
   ],
   "source": [
    "a, b = 10, 20\n",
    "a, b"
   ]
  },
  {
   "cell_type": "code",
   "execution_count": 13,
   "id": "d94ecccf",
   "metadata": {},
   "outputs": [
    {
     "data": {
      "text/plain": [
       "30"
      ]
     },
     "execution_count": 13,
     "metadata": {},
     "output_type": "execute_result"
    }
   ],
   "source": [
    "# Addition\n",
    "a+b"
   ]
  },
  {
   "cell_type": "code",
   "execution_count": 14,
   "id": "fe51c218",
   "metadata": {},
   "outputs": [
    {
     "data": {
      "text/plain": [
       "-10"
      ]
     },
     "execution_count": 14,
     "metadata": {},
     "output_type": "execute_result"
    }
   ],
   "source": [
    "# Subtraction\n",
    "a-b"
   ]
  },
  {
   "cell_type": "code",
   "execution_count": 15,
   "id": "9b8cb94d",
   "metadata": {},
   "outputs": [
    {
     "data": {
      "text/plain": [
       "200"
      ]
     },
     "execution_count": 15,
     "metadata": {},
     "output_type": "execute_result"
    }
   ],
   "source": [
    "# Multiplication\n",
    "a*b"
   ]
  },
  {
   "cell_type": "code",
   "execution_count": 16,
   "id": "9169e371",
   "metadata": {},
   "outputs": [
    {
     "data": {
      "text/plain": [
       "0.5"
      ]
     },
     "execution_count": 16,
     "metadata": {},
     "output_type": "execute_result"
    }
   ],
   "source": [
    "# Division\n",
    "a/b"
   ]
  },
  {
   "cell_type": "code",
   "execution_count": 17,
   "id": "97848575",
   "metadata": {},
   "outputs": [
    {
     "data": {
      "text/plain": [
       "0"
      ]
     },
     "execution_count": 17,
     "metadata": {},
     "output_type": "execute_result"
    }
   ],
   "source": [
    "# Floor Division\n",
    "a//b"
   ]
  },
  {
   "cell_type": "code",
   "execution_count": 18,
   "id": "6a3aec50",
   "metadata": {},
   "outputs": [
    {
     "data": {
      "text/plain": [
       "100000000000000000000"
      ]
     },
     "execution_count": 18,
     "metadata": {},
     "output_type": "execute_result"
    }
   ],
   "source": [
    "# Exponentiation\n",
    "a**b"
   ]
  },
  {
   "cell_type": "code",
   "execution_count": 19,
   "id": "99defb5c",
   "metadata": {},
   "outputs": [
    {
     "data": {
      "text/plain": [
       "10"
      ]
     },
     "execution_count": 19,
     "metadata": {},
     "output_type": "execute_result"
    }
   ],
   "source": [
    "# Modulus\n",
    "a%b"
   ]
  },
  {
   "cell_type": "markdown",
   "id": "6a9b30ca",
   "metadata": {},
   "source": [
    "## Assignment Operator"
   ]
  },
  {
   "cell_type": "code",
   "execution_count": 20,
   "id": "ca7fd5c7",
   "metadata": {},
   "outputs": [
    {
     "data": {
      "text/plain": [
       "5"
      ]
     },
     "execution_count": 20,
     "metadata": {},
     "output_type": "execute_result"
    }
   ],
   "source": [
    "a = 5\n",
    "a"
   ]
  },
  {
   "cell_type": "code",
   "execution_count": 21,
   "id": "643df888",
   "metadata": {},
   "outputs": [
    {
     "data": {
      "text/plain": [
       "10"
      ]
     },
     "execution_count": 21,
     "metadata": {},
     "output_type": "execute_result"
    }
   ],
   "source": [
    "a += 5\n",
    "a"
   ]
  },
  {
   "cell_type": "code",
   "execution_count": 22,
   "id": "79c59045",
   "metadata": {},
   "outputs": [
    {
     "data": {
      "text/plain": [
       "5"
      ]
     },
     "execution_count": 22,
     "metadata": {},
     "output_type": "execute_result"
    }
   ],
   "source": [
    "a -= 5\n",
    "a"
   ]
  },
  {
   "cell_type": "code",
   "execution_count": 23,
   "id": "d8cc44d1",
   "metadata": {},
   "outputs": [
    {
     "data": {
      "text/plain": [
       "25"
      ]
     },
     "execution_count": 23,
     "metadata": {},
     "output_type": "execute_result"
    }
   ],
   "source": [
    "a *= 5\n",
    "a"
   ]
  },
  {
   "cell_type": "code",
   "execution_count": 24,
   "id": "491eb588",
   "metadata": {},
   "outputs": [
    {
     "data": {
      "text/plain": [
       "5.0"
      ]
     },
     "execution_count": 24,
     "metadata": {},
     "output_type": "execute_result"
    }
   ],
   "source": [
    "a /= 5\n",
    "a"
   ]
  },
  {
   "cell_type": "code",
   "execution_count": 25,
   "id": "83d12ee0",
   "metadata": {},
   "outputs": [
    {
     "data": {
      "text/plain": [
       "2.0"
      ]
     },
     "execution_count": 25,
     "metadata": {},
     "output_type": "execute_result"
    }
   ],
   "source": [
    "a %= 3\n",
    "a"
   ]
  },
  {
   "cell_type": "code",
   "execution_count": 26,
   "id": "cddc7b40",
   "metadata": {},
   "outputs": [
    {
     "data": {
      "text/plain": [
       "6.0"
      ]
     },
     "execution_count": 26,
     "metadata": {},
     "output_type": "execute_result"
    }
   ],
   "source": [
    "a //= 0.3\n",
    "a"
   ]
  },
  {
   "cell_type": "code",
   "execution_count": 27,
   "id": "ab84bd01",
   "metadata": {},
   "outputs": [
    {
     "data": {
      "text/plain": [
       "216.0"
      ]
     },
     "execution_count": 27,
     "metadata": {},
     "output_type": "execute_result"
    }
   ],
   "source": [
    "a **= 3\n",
    "a"
   ]
  },
  {
   "cell_type": "code",
   "execution_count": 28,
   "id": "3a42002e",
   "metadata": {},
   "outputs": [
    {
     "data": {
      "text/plain": [
       "1"
      ]
     },
     "execution_count": 28,
     "metadata": {},
     "output_type": "execute_result"
    }
   ],
   "source": [
    "a = 9\n",
    "a &= 3\n",
    "a"
   ]
  },
  {
   "cell_type": "code",
   "execution_count": 29,
   "id": "13d9c9a9",
   "metadata": {},
   "outputs": [
    {
     "data": {
      "text/plain": [
       "7"
      ]
     },
     "execution_count": 29,
     "metadata": {},
     "output_type": "execute_result"
    }
   ],
   "source": [
    "a = 5\n",
    "a |= 3\n",
    "a"
   ]
  },
  {
   "cell_type": "code",
   "execution_count": 30,
   "id": "8b6506d7",
   "metadata": {},
   "outputs": [
    {
     "data": {
      "text/plain": [
       "5"
      ]
     },
     "execution_count": 30,
     "metadata": {},
     "output_type": "execute_result"
    }
   ],
   "source": [
    "a ^= 2\n",
    "a"
   ]
  },
  {
   "cell_type": "code",
   "execution_count": 31,
   "id": "7ca52be0",
   "metadata": {},
   "outputs": [
    {
     "data": {
      "text/plain": [
       "12"
      ]
     },
     "execution_count": 31,
     "metadata": {},
     "output_type": "execute_result"
    }
   ],
   "source": [
    "a = 100\n",
    "a >>= 3\n",
    "a"
   ]
  },
  {
   "cell_type": "code",
   "execution_count": 32,
   "id": "e31533d9",
   "metadata": {},
   "outputs": [
    {
     "data": {
      "text/plain": [
       "192"
      ]
     },
     "execution_count": 32,
     "metadata": {},
     "output_type": "execute_result"
    }
   ],
   "source": [
    "a <<= 4\n",
    "a"
   ]
  },
  {
   "cell_type": "markdown",
   "id": "307facaa",
   "metadata": {},
   "source": [
    "## Comparision Operator\n",
    "There are 6 comparision operators\n",
    "1. Equals\n",
    "2. Not equals\n",
    "3. Greater than\n",
    "4. Less than\n",
    "5. Grater than equal to\n",
    "6. Less than equal to"
   ]
  },
  {
   "cell_type": "code",
   "execution_count": 33,
   "id": "8e35f3e0",
   "metadata": {},
   "outputs": [],
   "source": [
    "a, b = 5, 6"
   ]
  },
  {
   "cell_type": "code",
   "execution_count": 34,
   "id": "e92c2db8",
   "metadata": {},
   "outputs": [
    {
     "data": {
      "text/plain": [
       "False"
      ]
     },
     "execution_count": 34,
     "metadata": {},
     "output_type": "execute_result"
    }
   ],
   "source": [
    "a == b"
   ]
  },
  {
   "cell_type": "code",
   "execution_count": 35,
   "id": "8ae417cc",
   "metadata": {},
   "outputs": [
    {
     "data": {
      "text/plain": [
       "True"
      ]
     },
     "execution_count": 35,
     "metadata": {},
     "output_type": "execute_result"
    }
   ],
   "source": [
    "a != b"
   ]
  },
  {
   "cell_type": "code",
   "execution_count": 36,
   "id": "c1aeb509",
   "metadata": {},
   "outputs": [
    {
     "data": {
      "text/plain": [
       "False"
      ]
     },
     "execution_count": 36,
     "metadata": {},
     "output_type": "execute_result"
    }
   ],
   "source": [
    "a > b"
   ]
  },
  {
   "cell_type": "code",
   "execution_count": 37,
   "id": "2c3a7060",
   "metadata": {},
   "outputs": [
    {
     "data": {
      "text/plain": [
       "True"
      ]
     },
     "execution_count": 37,
     "metadata": {},
     "output_type": "execute_result"
    }
   ],
   "source": [
    "a < b"
   ]
  },
  {
   "cell_type": "code",
   "execution_count": 38,
   "id": "6fea0180",
   "metadata": {},
   "outputs": [
    {
     "data": {
      "text/plain": [
       "False"
      ]
     },
     "execution_count": 38,
     "metadata": {},
     "output_type": "execute_result"
    }
   ],
   "source": [
    "a >= b"
   ]
  },
  {
   "cell_type": "code",
   "execution_count": 39,
   "id": "ad52a834",
   "metadata": {},
   "outputs": [
    {
     "data": {
      "text/plain": [
       "True"
      ]
     },
     "execution_count": 39,
     "metadata": {},
     "output_type": "execute_result"
    }
   ],
   "source": [
    "b <= b"
   ]
  },
  {
   "cell_type": "markdown",
   "id": "aca19df4",
   "metadata": {},
   "source": [
    "## Logical Operators\n",
    "There are 3 logical operators\n",
    "1. AND\n",
    "2. OR\n",
    "3. NOT"
   ]
  },
  {
   "cell_type": "code",
   "execution_count": 40,
   "id": "a10527d7",
   "metadata": {},
   "outputs": [],
   "source": [
    "a, b, c = 1, 2, 3"
   ]
  },
  {
   "cell_type": "code",
   "execution_count": 41,
   "id": "e230c0ab",
   "metadata": {},
   "outputs": [
    {
     "data": {
      "text/plain": [
       "True"
      ]
     },
     "execution_count": 41,
     "metadata": {},
     "output_type": "execute_result"
    }
   ],
   "source": [
    "a < b and b < c"
   ]
  },
  {
   "cell_type": "code",
   "execution_count": 42,
   "id": "0cc6f9a5",
   "metadata": {},
   "outputs": [
    {
     "data": {
      "text/plain": [
       "True"
      ]
     },
     "execution_count": 42,
     "metadata": {},
     "output_type": "execute_result"
    }
   ],
   "source": [
    "a == b or b < c"
   ]
  },
  {
   "cell_type": "code",
   "execution_count": 43,
   "id": "e2fa7639",
   "metadata": {},
   "outputs": [
    {
     "data": {
      "text/plain": [
       "True"
      ]
     },
     "execution_count": 43,
     "metadata": {},
     "output_type": "execute_result"
    }
   ],
   "source": [
    "not a == b"
   ]
  },
  {
   "cell_type": "markdown",
   "id": "c2be0ed5",
   "metadata": {},
   "source": [
    "## Identity operator"
   ]
  },
  {
   "cell_type": "code",
   "execution_count": 44,
   "id": "d2976ac0",
   "metadata": {},
   "outputs": [],
   "source": [
    "a = '1'\n",
    "b = 1\n",
    "\n",
    "A, B = 1, 1"
   ]
  },
  {
   "cell_type": "code",
   "execution_count": 45,
   "id": "6acdcfa7",
   "metadata": {},
   "outputs": [
    {
     "name": "stdout",
     "output_type": "stream",
     "text": [
      "False True\n"
     ]
    }
   ],
   "source": [
    "print(a is b, A is A)"
   ]
  },
  {
   "cell_type": "code",
   "execution_count": 46,
   "id": "d4c48743",
   "metadata": {},
   "outputs": [
    {
     "name": "stdout",
     "output_type": "stream",
     "text": [
      "True False\n"
     ]
    }
   ],
   "source": [
    "print(a is not b, A is not B)"
   ]
  },
  {
   "cell_type": "markdown",
   "id": "ad2ed85d",
   "metadata": {},
   "source": [
    "### Membership Operator"
   ]
  },
  {
   "cell_type": "code",
   "execution_count": 47,
   "id": "9529cc2f",
   "metadata": {},
   "outputs": [
    {
     "name": "stdout",
     "output_type": "stream",
     "text": [
      "True False\n",
      "False True\n"
     ]
    }
   ],
   "source": [
    "a = [1,2,3,4,5]\n",
    "b = 3\n",
    "c = 12\n",
    "print(b in a, c in a)\n",
    "print(b not in a, c not in a)"
   ]
  },
  {
   "cell_type": "markdown",
   "id": "b3ff9436",
   "metadata": {},
   "source": [
    "## Bitwise Operator\n",
    "There are 6 bitwise operators\n",
    "1. AND\n",
    "2. OR\n",
    "3. XOR\n",
    "4. NOT\n",
    "5. ZERO FILL LEFT SHIFT\n",
    "6. SIGNED RIGHT SHIFT"
   ]
  },
  {
   "cell_type": "code",
   "execution_count": 48,
   "id": "734850e8",
   "metadata": {},
   "outputs": [],
   "source": [
    "a, b = 3, 5\n"
   ]
  },
  {
   "cell_type": "code",
   "execution_count": 49,
   "id": "5e8a8b0f",
   "metadata": {},
   "outputs": [
    {
     "data": {
      "text/plain": [
       "1"
      ]
     },
     "execution_count": 49,
     "metadata": {},
     "output_type": "execute_result"
    }
   ],
   "source": [
    "a&b"
   ]
  },
  {
   "cell_type": "code",
   "execution_count": 50,
   "id": "26a72374",
   "metadata": {},
   "outputs": [
    {
     "data": {
      "text/plain": [
       "7"
      ]
     },
     "execution_count": 50,
     "metadata": {},
     "output_type": "execute_result"
    }
   ],
   "source": [
    "a|b"
   ]
  },
  {
   "cell_type": "code",
   "execution_count": 51,
   "id": "c1add7cf",
   "metadata": {},
   "outputs": [
    {
     "data": {
      "text/plain": [
       "6"
      ]
     },
     "execution_count": 51,
     "metadata": {},
     "output_type": "execute_result"
    }
   ],
   "source": [
    "a^b"
   ]
  },
  {
   "cell_type": "code",
   "execution_count": 52,
   "id": "facc18f5",
   "metadata": {},
   "outputs": [
    {
     "data": {
      "text/plain": [
       "-4"
      ]
     },
     "execution_count": 52,
     "metadata": {},
     "output_type": "execute_result"
    }
   ],
   "source": [
    "~a"
   ]
  },
  {
   "cell_type": "code",
   "execution_count": 53,
   "id": "c49cb117",
   "metadata": {},
   "outputs": [
    {
     "data": {
      "text/plain": [
       "36"
      ]
     },
     "execution_count": 53,
     "metadata": {},
     "output_type": "execute_result"
    }
   ],
   "source": [
    "a = 9\n",
    "a<<2"
   ]
  },
  {
   "cell_type": "code",
   "execution_count": 54,
   "id": "5fd1e034",
   "metadata": {},
   "outputs": [
    {
     "data": {
      "text/plain": [
       "9"
      ]
     },
     "execution_count": 54,
     "metadata": {},
     "output_type": "execute_result"
    }
   ],
   "source": [
    "a = 18\n",
    "a>>1"
   ]
  },
  {
   "cell_type": "markdown",
   "id": "34905852",
   "metadata": {},
   "source": [
    "# String Operations"
   ]
  },
  {
   "cell_type": "code",
   "execution_count": 55,
   "id": "b743ae91",
   "metadata": {},
   "outputs": [],
   "source": [
    "sample_string = 'The Big Brown Fox Jumped Over The Lazy Dog'"
   ]
  },
  {
   "cell_type": "code",
   "execution_count": 56,
   "id": "b87a3bfc",
   "metadata": {},
   "outputs": [
    {
     "name": "stdout",
     "output_type": "stream",
     "text": [
      "The Big Brown Fox Jumped Over The Lazy Dog\n"
     ]
    }
   ],
   "source": [
    "print(sample_string)"
   ]
  },
  {
   "cell_type": "code",
   "execution_count": 57,
   "id": "9080a08e",
   "metadata": {},
   "outputs": [
    {
     "name": "stdout",
     "output_type": "stream",
     "text": [
      "10\n"
     ]
    }
   ],
   "source": [
    "print(sample_string.find(\"own\"))"
   ]
  },
  {
   "cell_type": "code",
   "execution_count": 58,
   "id": "d427cf0e",
   "metadata": {},
   "outputs": [
    {
     "name": "stdout",
     "output_type": "stream",
     "text": [
      "The big brown fox jumped over the lazy dog\n"
     ]
    }
   ],
   "source": [
    "print(sample_string.capitalize())"
   ]
  },
  {
   "cell_type": "code",
   "execution_count": 59,
   "id": "1089e2bc",
   "metadata": {},
   "outputs": [
    {
     "name": "stdout",
     "output_type": "stream",
     "text": [
      "THE BIG BROWN FOX JUMPED OVER THE LAZY DOG\n"
     ]
    }
   ],
   "source": [
    "print(sample_string.upper())"
   ]
  },
  {
   "cell_type": "code",
   "execution_count": 60,
   "id": "2139fcc1",
   "metadata": {},
   "outputs": [
    {
     "name": "stdout",
     "output_type": "stream",
     "text": [
      "the big brown fox jumped over the lazy dog\n"
     ]
    }
   ],
   "source": [
    "print(sample_string.lower())"
   ]
  },
  {
   "cell_type": "code",
   "execution_count": 61,
   "id": "a54f6710",
   "metadata": {},
   "outputs": [
    {
     "name": "stdout",
     "output_type": "stream",
     "text": [
      "False\n"
     ]
    }
   ],
   "source": [
    "print(sample_string.isdigit())"
   ]
  },
  {
   "cell_type": "code",
   "execution_count": 62,
   "id": "bc753ed2",
   "metadata": {},
   "outputs": [
    {
     "name": "stdout",
     "output_type": "stream",
     "text": [
      "False\n"
     ]
    }
   ],
   "source": [
    "print(sample_string.isalpha())"
   ]
  },
  {
   "cell_type": "code",
   "execution_count": 63,
   "id": "c334a0ce",
   "metadata": {},
   "outputs": [
    {
     "name": "stdout",
     "output_type": "stream",
     "text": [
      "8\n"
     ]
    }
   ],
   "source": [
    "print(sample_string.count(\" \"))"
   ]
  },
  {
   "cell_type": "code",
   "execution_count": 64,
   "id": "017e5824",
   "metadata": {},
   "outputs": [
    {
     "name": "stdout",
     "output_type": "stream",
     "text": [
      "The Big Brown Jackle Jumped Over The Lazy Dog\n"
     ]
    }
   ],
   "source": [
    "print(sample_string.replace('Fox', 'Jackle'))"
   ]
  },
  {
   "cell_type": "code",
   "execution_count": 65,
   "id": "eedfa2f0",
   "metadata": {},
   "outputs": [
    {
     "name": "stdout",
     "output_type": "stream",
     "text": [
      "The Big Brown Fox Jumped Over The Lazy DogThe Big Brown Fox Jumped Over The Lazy Dog\n"
     ]
    }
   ],
   "source": [
    "print(sample_string*2)"
   ]
  },
  {
   "cell_type": "markdown",
   "id": "831c4d76",
   "metadata": {},
   "source": [
    "# Type Casting\n",
    "Changing a variable from one datatype to another"
   ]
  },
  {
   "cell_type": "code",
   "execution_count": 66,
   "id": "bcb766b9",
   "metadata": {},
   "outputs": [
    {
     "data": {
      "text/plain": [
       "int"
      ]
     },
     "execution_count": 66,
     "metadata": {},
     "output_type": "execute_result"
    }
   ],
   "source": [
    "a = 5\n",
    "type(a)"
   ]
  },
  {
   "cell_type": "code",
   "execution_count": 67,
   "id": "9c7ae856",
   "metadata": {},
   "outputs": [
    {
     "data": {
      "text/plain": [
       "str"
      ]
     },
     "execution_count": 67,
     "metadata": {},
     "output_type": "execute_result"
    }
   ],
   "source": [
    "type(str(a))"
   ]
  },
  {
   "cell_type": "code",
   "execution_count": 68,
   "id": "457c745b",
   "metadata": {},
   "outputs": [
    {
     "data": {
      "text/plain": [
       "int"
      ]
     },
     "execution_count": 68,
     "metadata": {},
     "output_type": "execute_result"
    }
   ],
   "source": [
    "type(a)"
   ]
  },
  {
   "cell_type": "code",
   "execution_count": 69,
   "id": "8694beca",
   "metadata": {},
   "outputs": [
    {
     "data": {
      "text/plain": [
       "str"
      ]
     },
     "execution_count": 69,
     "metadata": {},
     "output_type": "execute_result"
    }
   ],
   "source": [
    "a = str(a)\n",
    "type(a)"
   ]
  },
  {
   "cell_type": "code",
   "execution_count": 70,
   "id": "57d9983f",
   "metadata": {},
   "outputs": [
    {
     "data": {
      "text/plain": [
       "str"
      ]
     },
     "execution_count": 70,
     "metadata": {},
     "output_type": "execute_result"
    }
   ],
   "source": [
    "type(a)"
   ]
  },
  {
   "cell_type": "code",
   "execution_count": 71,
   "id": "6ca5a8c9",
   "metadata": {},
   "outputs": [
    {
     "data": {
      "text/plain": [
       "float"
      ]
     },
     "execution_count": 71,
     "metadata": {},
     "output_type": "execute_result"
    }
   ],
   "source": [
    "a = 324.32\n",
    "type(a)"
   ]
  },
  {
   "cell_type": "code",
   "execution_count": 72,
   "id": "785815ad",
   "metadata": {},
   "outputs": [
    {
     "data": {
      "text/plain": [
       "324"
      ]
     },
     "execution_count": 72,
     "metadata": {},
     "output_type": "execute_result"
    }
   ],
   "source": [
    "int(a)"
   ]
  },
  {
   "cell_type": "code",
   "execution_count": 73,
   "id": "2533855d",
   "metadata": {},
   "outputs": [
    {
     "data": {
      "text/plain": [
       "float"
      ]
     },
     "execution_count": 73,
     "metadata": {},
     "output_type": "execute_result"
    }
   ],
   "source": [
    "a = 123\n",
    "type(float(a))"
   ]
  },
  {
   "cell_type": "markdown",
   "id": "7737c755",
   "metadata": {},
   "source": [
    "## User Input"
   ]
  },
  {
   "cell_type": "code",
   "execution_count": 74,
   "id": "9dfb7f26",
   "metadata": {},
   "outputs": [
    {
     "name": "stdout",
     "output_type": "stream",
     "text": [
      "34ge34\n",
      "123\n"
     ]
    }
   ],
   "source": [
    "# User input is taken from the command prompt using\n",
    "a = input()\n",
    "b = int(input())"
   ]
  },
  {
   "cell_type": "code",
   "execution_count": 75,
   "id": "c9d5b36f",
   "metadata": {},
   "outputs": [
    {
     "data": {
      "text/plain": [
       "('34ge34', 123)"
      ]
     },
     "execution_count": 75,
     "metadata": {},
     "output_type": "execute_result"
    }
   ],
   "source": [
    "a, b"
   ]
  },
  {
   "cell_type": "markdown",
   "id": "d528fdcb",
   "metadata": {},
   "source": [
    "# Math Module Functions"
   ]
  },
  {
   "cell_type": "code",
   "execution_count": 76,
   "id": "fcf6afe5",
   "metadata": {},
   "outputs": [],
   "source": [
    "import math"
   ]
  },
  {
   "cell_type": "markdown",
   "id": "af6cf669",
   "metadata": {},
   "source": [
    "## Ceiling"
   ]
  },
  {
   "cell_type": "code",
   "execution_count": 77,
   "id": "75931e1f",
   "metadata": {},
   "outputs": [
    {
     "data": {
      "text/plain": [
       "343"
      ]
     },
     "execution_count": 77,
     "metadata": {},
     "output_type": "execute_result"
    }
   ],
   "source": [
    "# Here we are going to explore the most widely used math.functions()\n",
    "math.ceil(342.23)"
   ]
  },
  {
   "cell_type": "markdown",
   "id": "7b38a226",
   "metadata": {},
   "source": [
    "## Permutation"
   ]
  },
  {
   "cell_type": "code",
   "execution_count": 78,
   "id": "b57d6456",
   "metadata": {},
   "outputs": [
    {
     "data": {
      "text/plain": [
       "42"
      ]
     },
     "execution_count": 78,
     "metadata": {},
     "output_type": "execute_result"
    }
   ],
   "source": [
    "items = ['pen', 'pencil', 'eraser', 'sharpner', 'scale', 'pencilbox', 'compass']\n",
    "math.perm(len(items), 2)"
   ]
  },
  {
   "cell_type": "markdown",
   "id": "fc8099c4",
   "metadata": {},
   "source": [
    "## Combinations"
   ]
  },
  {
   "cell_type": "code",
   "execution_count": 79,
   "id": "a91731df",
   "metadata": {},
   "outputs": [
    {
     "data": {
      "text/plain": [
       "21"
      ]
     },
     "execution_count": 79,
     "metadata": {},
     "output_type": "execute_result"
    }
   ],
   "source": [
    "math.comb(len(items), 2) # Arguments of the comb function is int, int"
   ]
  },
  {
   "cell_type": "markdown",
   "id": "042355f0",
   "metadata": {},
   "source": [
    "## Factorial"
   ]
  },
  {
   "cell_type": "code",
   "execution_count": 80,
   "id": "102ba14d",
   "metadata": {},
   "outputs": [
    {
     "data": {
      "text/plain": [
       "120"
      ]
     },
     "execution_count": 80,
     "metadata": {},
     "output_type": "execute_result"
    }
   ],
   "source": [
    "math.factorial(5)"
   ]
  },
  {
   "cell_type": "markdown",
   "id": "c9369b1d",
   "metadata": {},
   "source": [
    "## Floor"
   ]
  },
  {
   "cell_type": "code",
   "execution_count": 81,
   "id": "a2e7c6a0",
   "metadata": {},
   "outputs": [
    {
     "data": {
      "text/plain": [
       "123"
      ]
     },
     "execution_count": 81,
     "metadata": {},
     "output_type": "execute_result"
    }
   ],
   "source": [
    "math.floor(123.9)"
   ]
  },
  {
   "cell_type": "markdown",
   "id": "d32e3cd2",
   "metadata": {},
   "source": [
    "## Iterable Sum"
   ]
  },
  {
   "cell_type": "code",
   "execution_count": 82,
   "id": "69851bc2",
   "metadata": {},
   "outputs": [
    {
     "data": {
      "text/plain": [
       "10711.0"
      ]
     },
     "execution_count": 82,
     "metadata": {},
     "output_type": "execute_result"
    }
   ],
   "source": [
    "iterables = [123,235,36,45,82,345,1345,3457,356,8,4679]\n",
    "math.fsum(iterables)"
   ]
  },
  {
   "cell_type": "markdown",
   "id": "dafee06b",
   "metadata": {},
   "source": [
    "## Iterable Product"
   ]
  },
  {
   "cell_type": "code",
   "execution_count": 83,
   "id": "f5a72cce",
   "metadata": {},
   "outputs": [
    {
     "data": {
      "text/plain": [
       "82079675301577628221920000"
      ]
     },
     "execution_count": 83,
     "metadata": {},
     "output_type": "execute_result"
    }
   ],
   "source": [
    "math.prod(iterables)"
   ]
  },
  {
   "cell_type": "markdown",
   "id": "dc81dc6e",
   "metadata": {},
   "source": [
    "## Square Root"
   ]
  },
  {
   "cell_type": "code",
   "execution_count": 84,
   "id": "8808eaa6",
   "metadata": {},
   "outputs": [
    {
     "data": {
      "text/plain": [
       "4.898979485566356"
      ]
     },
     "execution_count": 84,
     "metadata": {},
     "output_type": "execute_result"
    }
   ],
   "source": [
    "math.sqrt(24)"
   ]
  },
  {
   "cell_type": "markdown",
   "id": "6c1b4947",
   "metadata": {},
   "source": [
    "## Square Root Rounded Down"
   ]
  },
  {
   "cell_type": "code",
   "execution_count": 85,
   "id": "8d43fe8b",
   "metadata": {},
   "outputs": [
    {
     "data": {
      "text/plain": [
       "4"
      ]
     },
     "execution_count": 85,
     "metadata": {},
     "output_type": "execute_result"
    }
   ],
   "source": [
    "math.isqrt(24)"
   ]
  },
  {
   "cell_type": "markdown",
   "id": "aefb7046",
   "metadata": {},
   "source": [
    "## Log"
   ]
  },
  {
   "cell_type": "code",
   "execution_count": 86,
   "id": "842de72d",
   "metadata": {},
   "outputs": [
    {
     "data": {
      "text/plain": [
       "(4.605170185988092, 2.0, 4.61512051684126, 6.643856189774724)"
      ]
     },
     "execution_count": 86,
     "metadata": {},
     "output_type": "execute_result"
    }
   ],
   "source": [
    "log = math.log(100)\n",
    "log10 = math.log10(100)\n",
    "log1p = math.log1p(100)\n",
    "log2 = math.log2(100)\n",
    "log, log10, log1p, log2"
   ]
  },
  {
   "cell_type": "markdown",
   "id": "63f38d62",
   "metadata": {},
   "source": [
    "## Pow"
   ]
  },
  {
   "cell_type": "code",
   "execution_count": 87,
   "id": "4b7bc7e2",
   "metadata": {},
   "outputs": [
    {
     "data": {
      "text/plain": [
       "1024.0"
      ]
     },
     "execution_count": 87,
     "metadata": {},
     "output_type": "execute_result"
    }
   ],
   "source": [
    "math.pow(4,5)"
   ]
  },
  {
   "cell_type": "markdown",
   "id": "bb8ccb30",
   "metadata": {},
   "source": [
    "## Constants in Math Lib"
   ]
  },
  {
   "cell_type": "code",
   "execution_count": 88,
   "id": "95006935",
   "metadata": {},
   "outputs": [
    {
     "data": {
      "text/plain": [
       "(2.718281828459045, inf, nan, 3.141592653589793, 6.283185307179586)"
      ]
     },
     "execution_count": 88,
     "metadata": {},
     "output_type": "execute_result"
    }
   ],
   "source": [
    "math.e, math.inf, math.nan, math.pi, math.tau"
   ]
  },
  {
   "cell_type": "markdown",
   "id": "6fd9e43c",
   "metadata": {},
   "source": [
    "# String Slicing"
   ]
  },
  {
   "cell_type": "markdown",
   "id": "49aea102",
   "metadata": {},
   "source": [
    "Slicing is creating a substring by extracting elements from another string"
   ]
  },
  {
   "cell_type": "code",
   "execution_count": 89,
   "id": "966f1dcb",
   "metadata": {},
   "outputs": [
    {
     "data": {
      "text/plain": [
       "'The Big Brown Fox Jumped Over The Lazy Dog'"
      ]
     },
     "execution_count": 89,
     "metadata": {},
     "output_type": "execute_result"
    }
   ],
   "source": [
    "sample_string"
   ]
  },
  {
   "cell_type": "code",
   "execution_count": 90,
   "id": "fe4cd821",
   "metadata": {},
   "outputs": [
    {
     "data": {
      "text/plain": [
       "'eiBw'"
      ]
     },
     "execution_count": 90,
     "metadata": {},
     "output_type": "execute_result"
    }
   ],
   "source": [
    "# var_name[start: end: step]\n",
    "sample_string[2: 14: 3]"
   ]
  },
  {
   "cell_type": "code",
   "execution_count": 91,
   "id": "7f7864fa",
   "metadata": {},
   "outputs": [
    {
     "data": {
      "text/plain": [
       "'eiBw'"
      ]
     },
     "execution_count": 91,
     "metadata": {},
     "output_type": "execute_result"
    }
   ],
   "source": [
    "sample_string[slice(2, 14, 3)]"
   ]
  }
 ],
 "metadata": {
  "kernelspec": {
   "display_name": "Python 3 (ipykernel)",
   "language": "python",
   "name": "python3"
  },
  "language_info": {
   "codemirror_mode": {
    "name": "ipython",
    "version": 3
   },
   "file_extension": ".py",
   "mimetype": "text/x-python",
   "name": "python",
   "nbconvert_exporter": "python",
   "pygments_lexer": "ipython3",
   "version": "3.9.12"
  }
 },
 "nbformat": 4,
 "nbformat_minor": 5
}
