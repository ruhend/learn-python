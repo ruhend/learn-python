{
 "cells": [
  {
   "cell_type": "markdown",
   "id": "c142a577",
   "metadata": {},
   "source": [
    "# Today's Learnings\n",
    "1. Why python\n",
    "2. How to install\n",
    "3. How to setup environment\n",
    "4. Variables\n",
    "5. Operators\n",
    "6. String Operations\n",
    "7. Type Casting"
   ]
  },
  {
   "cell_type": "markdown",
   "id": "09dec603",
   "metadata": {},
   "source": [
    "### Why python"
   ]
  },
  {
   "cell_type": "markdown",
   "id": "e6c935c2",
   "metadata": {},
   "source": [
    "1. Python is beginner-friendly\n",
    "2. Python is versatile\n",
    "3. Python dev roles are high in demand\n",
    "4. Python has an amazing developer community\n",
    "5. Python is the fastest growing programming language"
   ]
  },
  {
   "cell_type": "markdown",
   "id": "ebc0ca50",
   "metadata": {},
   "source": [
    "### How to install"
   ]
  },
  {
   "cell_type": "markdown",
   "id": "202c267a",
   "metadata": {},
   "source": [
    "1. Goto https://www.python.org/downloads/\n",
    "2. Download and install the latest version\n",
    "3. Goto https://www.anaconda.com\n",
    "4. Download and install anaconda\n",
    "NOTE: make sure you have selected to update your $PATH variable."
   ]
  },
  {
   "cell_type": "markdown",
   "id": "9feb3764",
   "metadata": {},
   "source": [
    "### Setup python developer environment"
   ]
  },
  {
   "cell_type": "markdown",
   "id": "5ccb4eab",
   "metadata": {},
   "source": [
    "1. Install pip3 (should have been already installed.)\n",
    "2. ```pip3 install --upgrade pip3```. This upgrades your pip3 version to the latest version\n",
    "3. Install Anaconda or Miniconda. (Anaconda is better thou).\n",
    "4. ```conda init```"
   ]
  },
  {
   "cell_type": "markdown",
   "id": "49d625dc",
   "metadata": {},
   "source": [
    "## Hello world"
   ]
  },
  {
   "cell_type": "code",
   "execution_count": 7,
   "id": "fef59e31",
   "metadata": {},
   "outputs": [
    {
     "name": "stdout",
     "output_type": "stream",
     "text": [
      "Hello World!\n"
     ]
    }
   ],
   "source": [
    "print(\"Hello World!\")"
   ]
  },
  {
   "cell_type": "markdown",
   "id": "ff8c62c7",
   "metadata": {},
   "source": [
    "## Variables"
   ]
  },
  {
   "cell_type": "markdown",
   "id": "05136b00",
   "metadata": {},
   "source": [
    "A Variable is a container for a value. It behaves as the value that it contains"
   ]
  },
  {
   "cell_type": "code",
   "execution_count": 8,
   "id": "0519b597",
   "metadata": {},
   "outputs": [
    {
     "data": {
      "text/plain": [
       "int"
      ]
     },
     "execution_count": 8,
     "metadata": {},
     "output_type": "execute_result"
    }
   ],
   "source": [
    "a = 10\n",
    "type(a)"
   ]
  },
  {
   "cell_type": "code",
   "execution_count": 9,
   "id": "61a47c5a",
   "metadata": {},
   "outputs": [
    {
     "data": {
      "text/plain": [
       "float"
      ]
     },
     "execution_count": 9,
     "metadata": {},
     "output_type": "execute_result"
    }
   ],
   "source": [
    "a = 42.32\n",
    "type(a)"
   ]
  },
  {
   "cell_type": "code",
   "execution_count": 10,
   "id": "85e49e38",
   "metadata": {},
   "outputs": [
    {
     "data": {
      "text/plain": [
       "str"
      ]
     },
     "execution_count": 10,
     "metadata": {},
     "output_type": "execute_result"
    }
   ],
   "source": [
    "a = \"Hello world\"\n",
    "type(a)"
   ]
  },
  {
   "cell_type": "code",
   "execution_count": 11,
   "id": "b13b4280",
   "metadata": {},
   "outputs": [
    {
     "data": {
      "text/plain": [
       "bool"
      ]
     },
     "execution_count": 11,
     "metadata": {},
     "output_type": "execute_result"
    }
   ],
   "source": [
    "a = True\n",
    "type(a)"
   ]
  },
  {
   "cell_type": "markdown",
   "id": "8c747fdf",
   "metadata": {},
   "source": [
    "## Print formats"
   ]
  },
  {
   "cell_type": "code",
   "execution_count": 12,
   "id": "791924bb",
   "metadata": {},
   "outputs": [
    {
     "name": "stdout",
     "output_type": "stream",
     "text": [
      "Hi, My name is himansh . My ID is 169 and am 20 years old.\n",
      "Hi, My name is himansh. My ID is 169 and am 20 years old.\n",
      "Hi, My name is himansh. My ID is 169 and am 20 years old.\n",
      "Hi, My name is himansh. My ID is 169 and am 20 years old.\n"
     ]
    }
   ],
   "source": [
    "name, age, id = 'himansh', 20, 169\n",
    "\n",
    "print(\"Hi, My name is\", name,\". My ID is\",id,\"and am\", age, \"years old.\")\n",
    "print(\"Hi, My name is \"+ name+\". My ID is \"+str(id)+\" and am \"+ str(age)+ \" years old.\")\n",
    "\n",
    "print(f\"Hi, My name is {name}. My ID is {id} and am {age} years old.\")\n",
    "print('Hi, My name is {}. My ID is {} and am {} years old.'.format(name, id, age))"
   ]
  },
  {
   "cell_type": "markdown",
   "id": "7de2c93b",
   "metadata": {},
   "source": [
    "Here we can see that the format option is a lot better than the other two. Hence, for most programs, developers tend to use the format option to print of debug the code."
   ]
  },
  {
   "cell_type": "markdown",
   "id": "ead7282c",
   "metadata": {},
   "source": [
    "## Operations in Python"
   ]
  },
  {
   "cell_type": "markdown",
   "id": "e3554569",
   "metadata": {},
   "source": [
    "Python operators are of the following types\n",
    "- Arithmetic\n",
    "- Assignment\n",
    "- Comparision\n",
    "- Logical\n",
    "- Identity\n",
    "- Membership\n",
    "- Bitwise"
   ]
  },
  {
   "cell_type": "markdown",
   "id": "7fae70f3",
   "metadata": {},
   "source": [
    "### Arithmetic Operator\n",
    "In arithmetic, there are 7 types\n",
    "1. Addition\n",
    "2. Subtraction\n",
    "3. Multiplication\n",
    "4. Division\n",
    "5. Floor Division\n",
    "6. Exponentiation\n",
    "7. Modulus"
   ]
  },
  {
   "cell_type": "code",
   "execution_count": 13,
   "id": "403df2c7",
   "metadata": {},
   "outputs": [
    {
     "data": {
      "text/plain": [
       "(10, 20)"
      ]
     },
     "execution_count": 13,
     "metadata": {},
     "output_type": "execute_result"
    }
   ],
   "source": [
    "a, b = 10, 20\n",
    "a, b"
   ]
  },
  {
   "cell_type": "code",
   "execution_count": 14,
   "id": "09055de8",
   "metadata": {},
   "outputs": [
    {
     "data": {
      "text/plain": [
       "30"
      ]
     },
     "execution_count": 14,
     "metadata": {},
     "output_type": "execute_result"
    }
   ],
   "source": [
    "# Addition\n",
    "a+b"
   ]
  },
  {
   "cell_type": "code",
   "execution_count": 15,
   "id": "8248d49f",
   "metadata": {},
   "outputs": [
    {
     "data": {
      "text/plain": [
       "-10"
      ]
     },
     "execution_count": 15,
     "metadata": {},
     "output_type": "execute_result"
    }
   ],
   "source": [
    "# Subtraction\n",
    "a-b"
   ]
  },
  {
   "cell_type": "code",
   "execution_count": 16,
   "id": "f9c416b8",
   "metadata": {},
   "outputs": [
    {
     "data": {
      "text/plain": [
       "200"
      ]
     },
     "execution_count": 16,
     "metadata": {},
     "output_type": "execute_result"
    }
   ],
   "source": [
    "# Multiplication\n",
    "a*b"
   ]
  },
  {
   "cell_type": "code",
   "execution_count": 17,
   "id": "34bf048e",
   "metadata": {},
   "outputs": [
    {
     "data": {
      "text/plain": [
       "0.5"
      ]
     },
     "execution_count": 17,
     "metadata": {},
     "output_type": "execute_result"
    }
   ],
   "source": [
    "# Division\n",
    "a/b"
   ]
  },
  {
   "cell_type": "code",
   "execution_count": 18,
   "id": "facc1e7e",
   "metadata": {},
   "outputs": [
    {
     "data": {
      "text/plain": [
       "0"
      ]
     },
     "execution_count": 18,
     "metadata": {},
     "output_type": "execute_result"
    }
   ],
   "source": [
    "# Floor Division\n",
    "a//b"
   ]
  },
  {
   "cell_type": "code",
   "execution_count": 19,
   "id": "ad912f82",
   "metadata": {},
   "outputs": [
    {
     "data": {
      "text/plain": [
       "100000000000000000000"
      ]
     },
     "execution_count": 19,
     "metadata": {},
     "output_type": "execute_result"
    }
   ],
   "source": [
    "# Exponentiation\n",
    "a**b"
   ]
  },
  {
   "cell_type": "code",
   "execution_count": 20,
   "id": "3e127b49",
   "metadata": {},
   "outputs": [
    {
     "data": {
      "text/plain": [
       "10"
      ]
     },
     "execution_count": 20,
     "metadata": {},
     "output_type": "execute_result"
    }
   ],
   "source": [
    "# Modulus\n",
    "a%b"
   ]
  },
  {
   "cell_type": "markdown",
   "id": "85b640b4",
   "metadata": {},
   "source": [
    "### Assignment Operator"
   ]
  },
  {
   "cell_type": "code",
   "execution_count": 21,
   "id": "89e80c79",
   "metadata": {},
   "outputs": [
    {
     "data": {
      "text/plain": [
       "5"
      ]
     },
     "execution_count": 21,
     "metadata": {},
     "output_type": "execute_result"
    }
   ],
   "source": [
    "a = 5\n",
    "a"
   ]
  },
  {
   "cell_type": "code",
   "execution_count": 22,
   "id": "82b20961",
   "metadata": {},
   "outputs": [
    {
     "data": {
      "text/plain": [
       "10"
      ]
     },
     "execution_count": 22,
     "metadata": {},
     "output_type": "execute_result"
    }
   ],
   "source": [
    "a += 5\n",
    "a"
   ]
  },
  {
   "cell_type": "code",
   "execution_count": 23,
   "id": "9883e745",
   "metadata": {},
   "outputs": [
    {
     "data": {
      "text/plain": [
       "5"
      ]
     },
     "execution_count": 23,
     "metadata": {},
     "output_type": "execute_result"
    }
   ],
   "source": [
    "a -= 5\n",
    "a"
   ]
  },
  {
   "cell_type": "code",
   "execution_count": 24,
   "id": "9146dcef",
   "metadata": {},
   "outputs": [
    {
     "data": {
      "text/plain": [
       "25"
      ]
     },
     "execution_count": 24,
     "metadata": {},
     "output_type": "execute_result"
    }
   ],
   "source": [
    "a *= 5\n",
    "a"
   ]
  },
  {
   "cell_type": "code",
   "execution_count": 25,
   "id": "c7136909",
   "metadata": {},
   "outputs": [
    {
     "data": {
      "text/plain": [
       "5.0"
      ]
     },
     "execution_count": 25,
     "metadata": {},
     "output_type": "execute_result"
    }
   ],
   "source": [
    "a /= 5\n",
    "a"
   ]
  },
  {
   "cell_type": "code",
   "execution_count": 26,
   "id": "9d1ee481",
   "metadata": {},
   "outputs": [
    {
     "data": {
      "text/plain": [
       "2.0"
      ]
     },
     "execution_count": 26,
     "metadata": {},
     "output_type": "execute_result"
    }
   ],
   "source": [
    "a %= 3\n",
    "a"
   ]
  },
  {
   "cell_type": "code",
   "execution_count": 27,
   "id": "7f5d63c3",
   "metadata": {},
   "outputs": [
    {
     "data": {
      "text/plain": [
       "6.0"
      ]
     },
     "execution_count": 27,
     "metadata": {},
     "output_type": "execute_result"
    }
   ],
   "source": [
    "a //= 0.3\n",
    "a"
   ]
  },
  {
   "cell_type": "code",
   "execution_count": 28,
   "id": "68fa5d8d",
   "metadata": {},
   "outputs": [
    {
     "data": {
      "text/plain": [
       "216.0"
      ]
     },
     "execution_count": 28,
     "metadata": {},
     "output_type": "execute_result"
    }
   ],
   "source": [
    "a **= 3\n",
    "a"
   ]
  },
  {
   "cell_type": "code",
   "execution_count": 29,
   "id": "1731cece",
   "metadata": {},
   "outputs": [
    {
     "data": {
      "text/plain": [
       "1"
      ]
     },
     "execution_count": 29,
     "metadata": {},
     "output_type": "execute_result"
    }
   ],
   "source": [
    "a = 9\n",
    "a &= 3\n",
    "a"
   ]
  },
  {
   "cell_type": "code",
   "execution_count": 30,
   "id": "90df3cef",
   "metadata": {},
   "outputs": [
    {
     "data": {
      "text/plain": [
       "7"
      ]
     },
     "execution_count": 30,
     "metadata": {},
     "output_type": "execute_result"
    }
   ],
   "source": [
    "a = 5\n",
    "a |= 3\n",
    "a"
   ]
  },
  {
   "cell_type": "code",
   "execution_count": 31,
   "id": "0ab5b5a4",
   "metadata": {},
   "outputs": [
    {
     "data": {
      "text/plain": [
       "5"
      ]
     },
     "execution_count": 31,
     "metadata": {},
     "output_type": "execute_result"
    }
   ],
   "source": [
    "a ^= 2\n",
    "a"
   ]
  },
  {
   "cell_type": "code",
   "execution_count": 32,
   "id": "6e3c0b34",
   "metadata": {},
   "outputs": [
    {
     "data": {
      "text/plain": [
       "12"
      ]
     },
     "execution_count": 32,
     "metadata": {},
     "output_type": "execute_result"
    }
   ],
   "source": [
    "a = 100\n",
    "a >>= 3\n",
    "a"
   ]
  },
  {
   "cell_type": "code",
   "execution_count": 33,
   "id": "a5f442ce",
   "metadata": {},
   "outputs": [
    {
     "data": {
      "text/plain": [
       "192"
      ]
     },
     "execution_count": 33,
     "metadata": {},
     "output_type": "execute_result"
    }
   ],
   "source": [
    "a <<= 4\n",
    "a"
   ]
  },
  {
   "cell_type": "markdown",
   "id": "da4dd47a",
   "metadata": {},
   "source": [
    "### Comparision Operator\n",
    "There are 6 comparision operators\n",
    "1. Equals\n",
    "2. Not equals\n",
    "3. Greater than\n",
    "4. Less than\n",
    "5. Grater than equal to\n",
    "6. Less than equal to"
   ]
  },
  {
   "cell_type": "code",
   "execution_count": 34,
   "id": "8dc704e3",
   "metadata": {},
   "outputs": [],
   "source": [
    "a, b = 5, 6"
   ]
  },
  {
   "cell_type": "code",
   "execution_count": 35,
   "id": "78e3f862",
   "metadata": {},
   "outputs": [
    {
     "data": {
      "text/plain": [
       "False"
      ]
     },
     "execution_count": 35,
     "metadata": {},
     "output_type": "execute_result"
    }
   ],
   "source": [
    "a == b"
   ]
  },
  {
   "cell_type": "code",
   "execution_count": 36,
   "id": "8d9e9e22",
   "metadata": {},
   "outputs": [
    {
     "data": {
      "text/plain": [
       "True"
      ]
     },
     "execution_count": 36,
     "metadata": {},
     "output_type": "execute_result"
    }
   ],
   "source": [
    "a != b"
   ]
  },
  {
   "cell_type": "code",
   "execution_count": 37,
   "id": "b1da8ead",
   "metadata": {},
   "outputs": [
    {
     "data": {
      "text/plain": [
       "False"
      ]
     },
     "execution_count": 37,
     "metadata": {},
     "output_type": "execute_result"
    }
   ],
   "source": [
    "a > b"
   ]
  },
  {
   "cell_type": "code",
   "execution_count": 38,
   "id": "9742ffb0",
   "metadata": {},
   "outputs": [
    {
     "data": {
      "text/plain": [
       "True"
      ]
     },
     "execution_count": 38,
     "metadata": {},
     "output_type": "execute_result"
    }
   ],
   "source": [
    "a < b"
   ]
  },
  {
   "cell_type": "code",
   "execution_count": 39,
   "id": "222f7890",
   "metadata": {},
   "outputs": [
    {
     "data": {
      "text/plain": [
       "False"
      ]
     },
     "execution_count": 39,
     "metadata": {},
     "output_type": "execute_result"
    }
   ],
   "source": [
    "a >= b"
   ]
  },
  {
   "cell_type": "code",
   "execution_count": 40,
   "id": "a5e21541",
   "metadata": {},
   "outputs": [
    {
     "data": {
      "text/plain": [
       "True"
      ]
     },
     "execution_count": 40,
     "metadata": {},
     "output_type": "execute_result"
    }
   ],
   "source": [
    "b <= b"
   ]
  },
  {
   "cell_type": "markdown",
   "id": "f114fb9f",
   "metadata": {},
   "source": [
    "### Logical Operators\n",
    "There are 3 logical operators\n",
    "1. AND\n",
    "2. OR\n",
    "3. NOT"
   ]
  },
  {
   "cell_type": "code",
   "execution_count": 41,
   "id": "759b73ee",
   "metadata": {},
   "outputs": [],
   "source": [
    "a, b, c = 1, 2, 3"
   ]
  },
  {
   "cell_type": "code",
   "execution_count": 42,
   "id": "0ee95821",
   "metadata": {},
   "outputs": [
    {
     "data": {
      "text/plain": [
       "True"
      ]
     },
     "execution_count": 42,
     "metadata": {},
     "output_type": "execute_result"
    }
   ],
   "source": [
    "a < b and b < c"
   ]
  },
  {
   "cell_type": "code",
   "execution_count": 43,
   "id": "14cee5fb",
   "metadata": {},
   "outputs": [
    {
     "data": {
      "text/plain": [
       "True"
      ]
     },
     "execution_count": 43,
     "metadata": {},
     "output_type": "execute_result"
    }
   ],
   "source": [
    "a == b or b < c"
   ]
  },
  {
   "cell_type": "code",
   "execution_count": 44,
   "id": "fac1a428",
   "metadata": {},
   "outputs": [
    {
     "data": {
      "text/plain": [
       "True"
      ]
     },
     "execution_count": 44,
     "metadata": {},
     "output_type": "execute_result"
    }
   ],
   "source": [
    "not a == b"
   ]
  },
  {
   "cell_type": "markdown",
   "id": "5cb27c9c",
   "metadata": {},
   "source": [
    "### Identity operator"
   ]
  },
  {
   "cell_type": "code",
   "execution_count": 45,
   "id": "b151cdad",
   "metadata": {},
   "outputs": [],
   "source": [
    "a = '1'\n",
    "b = 1\n",
    "\n",
    "A, B = 1, 1"
   ]
  },
  {
   "cell_type": "code",
   "execution_count": 46,
   "id": "f293af35",
   "metadata": {},
   "outputs": [
    {
     "name": "stdout",
     "output_type": "stream",
     "text": [
      "False True\n"
     ]
    }
   ],
   "source": [
    "print(a is b, A is A)"
   ]
  },
  {
   "cell_type": "code",
   "execution_count": 47,
   "id": "4ac9fde7",
   "metadata": {},
   "outputs": [
    {
     "name": "stdout",
     "output_type": "stream",
     "text": [
      "True False\n"
     ]
    }
   ],
   "source": [
    "print(a is not b, A is not B)"
   ]
  },
  {
   "cell_type": "markdown",
   "id": "3f9b1924",
   "metadata": {},
   "source": [
    "### Membership Operator"
   ]
  },
  {
   "cell_type": "code",
   "execution_count": 48,
   "id": "9205e32a",
   "metadata": {},
   "outputs": [
    {
     "name": "stdout",
     "output_type": "stream",
     "text": [
      "True False\n",
      "False True\n"
     ]
    }
   ],
   "source": [
    "a = [1,2,3,4,5]\n",
    "b = 3\n",
    "c = 12\n",
    "print(b in a, c in a)\n",
    "print(b not in a, c not in a)"
   ]
  },
  {
   "cell_type": "markdown",
   "id": "2372a9c4",
   "metadata": {},
   "source": [
    "### Bitwise Operator\n",
    "There are 6 bitwise operators\n",
    "1. AND\n",
    "2. OR\n",
    "3. XOR\n",
    "4. NOT\n",
    "5. ZERO FILL LEFT SHIFT\n",
    "6. SIGNED RIGHT SHIFT"
   ]
  },
  {
   "cell_type": "code",
   "execution_count": 49,
   "id": "69dc82e3",
   "metadata": {},
   "outputs": [],
   "source": [
    "a, b = 3, 5\n"
   ]
  },
  {
   "cell_type": "code",
   "execution_count": 50,
   "id": "931d7cd6",
   "metadata": {},
   "outputs": [
    {
     "data": {
      "text/plain": [
       "1"
      ]
     },
     "execution_count": 50,
     "metadata": {},
     "output_type": "execute_result"
    }
   ],
   "source": [
    "a&b"
   ]
  },
  {
   "cell_type": "code",
   "execution_count": 51,
   "id": "5865a677",
   "metadata": {},
   "outputs": [
    {
     "data": {
      "text/plain": [
       "7"
      ]
     },
     "execution_count": 51,
     "metadata": {},
     "output_type": "execute_result"
    }
   ],
   "source": [
    "a|b"
   ]
  },
  {
   "cell_type": "code",
   "execution_count": 52,
   "id": "9690b121",
   "metadata": {},
   "outputs": [
    {
     "data": {
      "text/plain": [
       "6"
      ]
     },
     "execution_count": 52,
     "metadata": {},
     "output_type": "execute_result"
    }
   ],
   "source": [
    "a^b"
   ]
  },
  {
   "cell_type": "code",
   "execution_count": 53,
   "id": "62ec9e1b",
   "metadata": {},
   "outputs": [
    {
     "data": {
      "text/plain": [
       "-4"
      ]
     },
     "execution_count": 53,
     "metadata": {},
     "output_type": "execute_result"
    }
   ],
   "source": [
    "~a"
   ]
  },
  {
   "cell_type": "code",
   "execution_count": 54,
   "id": "68e45aca",
   "metadata": {},
   "outputs": [
    {
     "data": {
      "text/plain": [
       "36"
      ]
     },
     "execution_count": 54,
     "metadata": {},
     "output_type": "execute_result"
    }
   ],
   "source": [
    "a = 9\n",
    "a<<2"
   ]
  },
  {
   "cell_type": "code",
   "execution_count": 55,
   "id": "935a59e4",
   "metadata": {},
   "outputs": [
    {
     "data": {
      "text/plain": [
       "9"
      ]
     },
     "execution_count": 55,
     "metadata": {},
     "output_type": "execute_result"
    }
   ],
   "source": [
    "a = 18\n",
    "a>>1"
   ]
  },
  {
   "cell_type": "markdown",
   "id": "d9f876bc",
   "metadata": {},
   "source": [
    "## String Methods"
   ]
  },
  {
   "cell_type": "code",
   "execution_count": 56,
   "id": "2c97f5f5",
   "metadata": {},
   "outputs": [],
   "source": [
    "sample_string = 'The Big Brown Fox Jumped Over The Lazy Dog'"
   ]
  },
  {
   "cell_type": "code",
   "execution_count": 57,
   "id": "7c4d6154",
   "metadata": {},
   "outputs": [
    {
     "name": "stdout",
     "output_type": "stream",
     "text": [
      "The Big Brown Fox Jumped Over The Lazy Dog\n"
     ]
    }
   ],
   "source": [
    "print(sample_string)"
   ]
  },
  {
   "cell_type": "code",
   "execution_count": 58,
   "id": "449c5adc",
   "metadata": {},
   "outputs": [
    {
     "name": "stdout",
     "output_type": "stream",
     "text": [
      "10\n"
     ]
    }
   ],
   "source": [
    "print(sample_string.find(\"own\"))"
   ]
  },
  {
   "cell_type": "code",
   "execution_count": 59,
   "id": "dba19e7b",
   "metadata": {},
   "outputs": [
    {
     "name": "stdout",
     "output_type": "stream",
     "text": [
      "The big brown fox jumped over the lazy dog\n"
     ]
    }
   ],
   "source": [
    "print(sample_string.capitalize())"
   ]
  },
  {
   "cell_type": "code",
   "execution_count": 60,
   "id": "79f5647e",
   "metadata": {},
   "outputs": [
    {
     "name": "stdout",
     "output_type": "stream",
     "text": [
      "THE BIG BROWN FOX JUMPED OVER THE LAZY DOG\n"
     ]
    }
   ],
   "source": [
    "print(sample_string.upper())"
   ]
  },
  {
   "cell_type": "code",
   "execution_count": 61,
   "id": "a33f57f7",
   "metadata": {},
   "outputs": [
    {
     "name": "stdout",
     "output_type": "stream",
     "text": [
      "the big brown fox jumped over the lazy dog\n"
     ]
    }
   ],
   "source": [
    "print(sample_string.lower())"
   ]
  },
  {
   "cell_type": "code",
   "execution_count": 62,
   "id": "b6471313",
   "metadata": {},
   "outputs": [
    {
     "name": "stdout",
     "output_type": "stream",
     "text": [
      "False\n"
     ]
    }
   ],
   "source": [
    "print(sample_string.isdigit())"
   ]
  },
  {
   "cell_type": "code",
   "execution_count": 63,
   "id": "12301bf0",
   "metadata": {},
   "outputs": [
    {
     "name": "stdout",
     "output_type": "stream",
     "text": [
      "False\n"
     ]
    }
   ],
   "source": [
    "print(sample_string.isalpha())"
   ]
  },
  {
   "cell_type": "code",
   "execution_count": 64,
   "id": "cc18ea10",
   "metadata": {},
   "outputs": [
    {
     "name": "stdout",
     "output_type": "stream",
     "text": [
      "8\n"
     ]
    }
   ],
   "source": [
    "print(sample_string.count(\" \"))"
   ]
  },
  {
   "cell_type": "code",
   "execution_count": 65,
   "id": "18be5887",
   "metadata": {},
   "outputs": [
    {
     "name": "stdout",
     "output_type": "stream",
     "text": [
      "The Big Brown Jackle Jumped Over The Lazy Dog\n"
     ]
    }
   ],
   "source": [
    "print(sample_string.replace('Fox', 'Jackle'))"
   ]
  },
  {
   "cell_type": "code",
   "execution_count": 66,
   "id": "5d69eb3c",
   "metadata": {},
   "outputs": [
    {
     "name": "stdout",
     "output_type": "stream",
     "text": [
      "The Big Brown Fox Jumped Over The Lazy DogThe Big Brown Fox Jumped Over The Lazy Dog\n"
     ]
    }
   ],
   "source": [
    "print(sample_string*2)"
   ]
  },
  {
   "cell_type": "markdown",
   "id": "b113f16b",
   "metadata": {},
   "source": [
    "### Type Casting\n",
    "Changing a variable from one datatype to another"
   ]
  },
  {
   "cell_type": "code",
   "execution_count": 67,
   "id": "f94b3b8d",
   "metadata": {},
   "outputs": [
    {
     "data": {
      "text/plain": [
       "int"
      ]
     },
     "execution_count": 67,
     "metadata": {},
     "output_type": "execute_result"
    }
   ],
   "source": [
    "a = 5\n",
    "type(a)"
   ]
  },
  {
   "cell_type": "code",
   "execution_count": 68,
   "id": "6b29e03f",
   "metadata": {},
   "outputs": [
    {
     "data": {
      "text/plain": [
       "str"
      ]
     },
     "execution_count": 68,
     "metadata": {},
     "output_type": "execute_result"
    }
   ],
   "source": [
    "type(str(a))"
   ]
  },
  {
   "cell_type": "code",
   "execution_count": 69,
   "id": "862333e3",
   "metadata": {},
   "outputs": [
    {
     "data": {
      "text/plain": [
       "int"
      ]
     },
     "execution_count": 69,
     "metadata": {},
     "output_type": "execute_result"
    }
   ],
   "source": [
    "type(a)"
   ]
  },
  {
   "cell_type": "code",
   "execution_count": 70,
   "id": "b45b2af0",
   "metadata": {},
   "outputs": [
    {
     "data": {
      "text/plain": [
       "str"
      ]
     },
     "execution_count": 70,
     "metadata": {},
     "output_type": "execute_result"
    }
   ],
   "source": [
    "a = str(a)\n",
    "type(a)"
   ]
  },
  {
   "cell_type": "code",
   "execution_count": 71,
   "id": "fdc6c335",
   "metadata": {},
   "outputs": [
    {
     "data": {
      "text/plain": [
       "str"
      ]
     },
     "execution_count": 71,
     "metadata": {},
     "output_type": "execute_result"
    }
   ],
   "source": [
    "type(a)"
   ]
  },
  {
   "cell_type": "code",
   "execution_count": 72,
   "id": "9b39ad58",
   "metadata": {},
   "outputs": [
    {
     "data": {
      "text/plain": [
       "float"
      ]
     },
     "execution_count": 72,
     "metadata": {},
     "output_type": "execute_result"
    }
   ],
   "source": [
    "a = 324.32\n",
    "type(a)"
   ]
  },
  {
   "cell_type": "code",
   "execution_count": 73,
   "id": "d85ceff9",
   "metadata": {},
   "outputs": [
    {
     "data": {
      "text/plain": [
       "324"
      ]
     },
     "execution_count": 73,
     "metadata": {},
     "output_type": "execute_result"
    }
   ],
   "source": [
    "int(a)"
   ]
  },
  {
   "cell_type": "code",
   "execution_count": 74,
   "id": "1f00e0cb",
   "metadata": {},
   "outputs": [
    {
     "data": {
      "text/plain": [
       "float"
      ]
     },
     "execution_count": 74,
     "metadata": {},
     "output_type": "execute_result"
    }
   ],
   "source": [
    "a = 123\n",
    "type(float(a))"
   ]
  }
 ],
 "metadata": {
  "kernelspec": {
   "display_name": "Python 3 (ipykernel)",
   "language": "python",
   "name": "python3"
  },
  "language_info": {
   "codemirror_mode": {
    "name": "ipython",
    "version": 3
   },
   "file_extension": ".py",
   "mimetype": "text/x-python",
   "name": "python",
   "nbconvert_exporter": "python",
   "pygments_lexer": "ipython3",
   "version": "3.9.12"
  }
 },
 "nbformat": 4,
 "nbformat_minor": 5
}
