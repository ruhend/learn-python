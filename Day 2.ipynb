{
 "cells": [
  {
   "cell_type": "markdown",
   "id": "ab46ddfb",
   "metadata": {},
   "source": [
    "# @author: @ruhend (Himansh Mudigonda)\n",
    "# Day 2"
   ]
  },
  {
   "cell_type": "markdown",
   "id": "36514dd4",
   "metadata": {},
   "source": [
    "# Today's Learnings\n",
    "1. Decision Making\n",
    "    1. If\n",
    "    2. If Else\n",
    "    3. If Elif Else\n",
    "2. Iterations\n",
    "    1. For\n",
    "    2. While\n",
    "    3. Nested Loops\n",
    "    4. Pass, Continue and Break\n",
    "3. Lists\n",
    "4. 2D Lists\n",
    "5. Tuples\n",
    "6. Sets\n",
    "7. Dictionaries\n",
    "8. Indexing\n",
    "9. Functions and Return\n",
    "10. Keywords and Arguments\n",
    "11. Nested Function Calls\n",
    "12. Variable Scope\n",
    "13. Args and Kw\n",
    "14. String Format\n",
    "15. Random Numbers"
   ]
  },
  {
   "cell_type": "markdown",
   "id": "b78c5e70",
   "metadata": {},
   "source": [
    "# Decision Making"
   ]
  },
  {
   "cell_type": "markdown",
   "id": "2ad12baa",
   "metadata": {},
   "source": [
    "## If"
   ]
  },
  {
   "cell_type": "code",
   "execution_count": 1,
   "id": "59ee5771",
   "metadata": {},
   "outputs": [
    {
     "name": "stdout",
     "output_type": "stream",
     "text": [
      "You can vote!\n",
      "You can vote, but whats the point?\n"
     ]
    }
   ],
   "source": [
    "age = 78\n",
    "if age >=18:\n",
    "    print(\"You can vote!\")\n",
    "if age <18:\n",
    "    print(\"You cannot vote!\")\n",
    "if age >=75:\n",
    "    print(\"You can vote, but whats the point?\")"
   ]
  },
  {
   "cell_type": "markdown",
   "id": "9f538846",
   "metadata": {},
   "source": [
    "## If Else"
   ]
  },
  {
   "cell_type": "code",
   "execution_count": 2,
   "id": "6e0d9604",
   "metadata": {},
   "outputs": [
    {
     "name": "stdout",
     "output_type": "stream",
     "text": [
      "You can vote!\n"
     ]
    }
   ],
   "source": [
    "age = 20\n",
    "if age < 18:\n",
    "    print(\"You cannot vote!\")\n",
    "else:\n",
    "    print(\"You can vote!\")"
   ]
  },
  {
   "cell_type": "markdown",
   "id": "d7b3c79c",
   "metadata": {},
   "source": [
    "## Elif"
   ]
  },
  {
   "cell_type": "code",
   "execution_count": 3,
   "id": "89272607",
   "metadata": {},
   "outputs": [
    {
     "name": "stdout",
     "output_type": "stream",
     "text": [
      "You can vote, but whats the point?\n"
     ]
    }
   ],
   "source": [
    "age = 78\n",
    "if age < 18:\n",
    "    print(\"You cannot vote!\")\n",
    "elif age >= 75:\n",
    "        print(\"You can vote, but whats the point?\")\n",
    "else:\n",
    "    print(\"You can vote!\")"
   ]
  },
  {
   "cell_type": "markdown",
   "id": "38cf63ee",
   "metadata": {},
   "source": [
    "# Iterations"
   ]
  },
  {
   "cell_type": "markdown",
   "id": "66399ef8",
   "metadata": {},
   "source": [
    "## For Loop"
   ]
  },
  {
   "cell_type": "code",
   "execution_count": 4,
   "id": "2cf48022",
   "metadata": {},
   "outputs": [],
   "source": [
    "list_of_items = ['pen', 'pencil', 'eraser', 'sharpner', 'scale']"
   ]
  },
  {
   "cell_type": "code",
   "execution_count": 5,
   "id": "91b48ec4",
   "metadata": {},
   "outputs": [
    {
     "name": "stdout",
     "output_type": "stream",
     "text": [
      "0\n",
      "1\n",
      "2\n",
      "3\n",
      "4\n",
      "We have to buy pen\n",
      "We have to buy pencil\n",
      "We have to buy eraser\n",
      "We have to buy sharpner\n",
      "We have to buy scale\n",
      "item 1 is pen\n",
      "item 2 is pencil\n",
      "item 3 is eraser\n",
      "item 4 is sharpner\n",
      "item 5 is scale\n"
     ]
    }
   ],
   "source": [
    "for i in range(5):\n",
    "    print(\"{}\".format(i))\n",
    "    \n",
    "for i in list_of_items:\n",
    "    print(\"We have to buy {}\".format(i))\n",
    "\n",
    "for i,j in enumerate(list_of_items):\n",
    "    print(\"item {} is {}\".format(i+1,j))"
   ]
  },
  {
   "cell_type": "markdown",
   "id": "3f0123d8",
   "metadata": {},
   "source": [
    "## While Loop"
   ]
  },
  {
   "cell_type": "code",
   "execution_count": 6,
   "id": "6cb4fe35",
   "metadata": {},
   "outputs": [
    {
     "name": "stdout",
     "output_type": "stream",
     "text": [
      "item 1 is scale\n",
      "item 2 is sharpner\n",
      "item 3 is eraser\n",
      "item 4 is pencil\n",
      "item 5 is pen\n"
     ]
    }
   ],
   "source": [
    "length = len(list_of_items)\n",
    "index = length\n",
    "while index>0:\n",
    "    print(\"item {} is {}\".format(length - index + 1, list_of_items[index-1]))\n",
    "    index -= 1"
   ]
  },
  {
   "cell_type": "markdown",
   "id": "526a0379",
   "metadata": {},
   "source": [
    "## Nested Loop"
   ]
  },
  {
   "cell_type": "code",
   "execution_count": 7,
   "id": "999fe961",
   "metadata": {},
   "outputs": [
    {
     "name": "stdout",
     "output_type": "stream",
     "text": [
      "0 0 0 0 0 0 0 0 0 0 0 0 0 0 0 0 0 0 0 0 0 0 0 0 0 \n",
      "0 0 0 0 0 0 1 2 3 4 0 2 4 6 8 0 3 6 9 12 0 4 8 12 16 \n",
      "0 0 0 0 0 0 2 4 6 8 0 4 8 12 16 0 6 12 18 24 0 8 16 24 32 \n",
      "0 0 0 0 0 0 3 6 9 12 0 6 12 18 24 0 9 18 27 36 0 12 24 36 48 \n",
      "0 0 0 0 0 0 4 8 12 16 0 8 16 24 32 0 12 24 36 48 0 16 32 48 64 \n"
     ]
    }
   ],
   "source": [
    "for i in range(5):\n",
    "    for j in range(5):\n",
    "        for k in range(5):\n",
    "            print(\"{} \".format(i*j*k), end=\"\")\n",
    "    print()"
   ]
  },
  {
   "cell_type": "markdown",
   "id": "72974817",
   "metadata": {},
   "source": [
    "## Pass, Continue and Break"
   ]
  },
  {
   "cell_type": "code",
   "execution_count": 8,
   "id": "736d6092",
   "metadata": {},
   "outputs": [
    {
     "name": "stdout",
     "output_type": "stream",
     "text": [
      "mod 3 = 0\n",
      "1\n",
      "mod 3 = 0\n",
      "3\n",
      "5\n",
      "mod 3 = 0\n",
      "7\n",
      "mod 3 = 0\n",
      "9\n"
     ]
    }
   ],
   "source": [
    "for i in range(10):\n",
    "    if i%3 == 0:\n",
    "        print(\"mod 3 = 0\")\n",
    "        pass # normal execution\n",
    "    if i%2 == 0:\n",
    "        continue # skips the current cycle and starts the next cycle\n",
    "    if i == 8:\n",
    "        break # breaks out of the loop\n",
    "    print(\"{}\".format(i))"
   ]
  },
  {
   "cell_type": "markdown",
   "id": "a43332a5",
   "metadata": {},
   "source": [
    "# Lists"
   ]
  },
  {
   "cell_type": "code",
   "execution_count": 9,
   "id": "803cedcb",
   "metadata": {},
   "outputs": [],
   "source": [
    "list_of_items = ['pen', 'pencil', 'eraser', 'sharpner', 'scale']"
   ]
  },
  {
   "cell_type": "code",
   "execution_count": 10,
   "id": "83148c75",
   "metadata": {},
   "outputs": [
    {
     "data": {
      "text/plain": [
       "['pen', 'pencil', 'eraser', 'sharpner', 'scale']"
      ]
     },
     "execution_count": 10,
     "metadata": {},
     "output_type": "execute_result"
    }
   ],
   "source": [
    "list_of_items"
   ]
  },
  {
   "cell_type": "markdown",
   "id": "a0bf78ec",
   "metadata": {},
   "source": [
    "## Append"
   ]
  },
  {
   "cell_type": "code",
   "execution_count": 11,
   "id": "e03c217e",
   "metadata": {},
   "outputs": [
    {
     "data": {
      "text/plain": [
       "['pen', 'pencil', 'eraser', 'sharpner', 'scale', 'pencilbox']"
      ]
     },
     "execution_count": 11,
     "metadata": {},
     "output_type": "execute_result"
    }
   ],
   "source": [
    "list_of_items.append(\"pencilbox\")\n",
    "list_of_items"
   ]
  },
  {
   "cell_type": "markdown",
   "id": "2da3fc43",
   "metadata": {},
   "source": [
    "## Insert"
   ]
  },
  {
   "cell_type": "code",
   "execution_count": 12,
   "id": "61c936d3",
   "metadata": {},
   "outputs": [
    {
     "data": {
      "text/plain": [
       "['pen', 'pencil', 'compass', 'eraser', 'sharpner', 'scale', 'pencilbox']"
      ]
     },
     "execution_count": 12,
     "metadata": {},
     "output_type": "execute_result"
    }
   ],
   "source": [
    "list_of_items.insert(2, \"compass\")\n",
    "list_of_items"
   ]
  },
  {
   "cell_type": "code",
   "execution_count": 13,
   "id": "7a42fd3f",
   "metadata": {},
   "outputs": [
    {
     "data": {
      "text/plain": [
       "['pen',\n",
       " 'pencil',\n",
       " 'compass',\n",
       " 'eraser',\n",
       " 'sharpner',\n",
       " 'scale',\n",
       " 'pencilbox',\n",
       " 'compass']"
      ]
     },
     "execution_count": 13,
     "metadata": {},
     "output_type": "execute_result"
    }
   ],
   "source": [
    "list_of_items.append(\"compass\")\n",
    "list_of_items"
   ]
  },
  {
   "cell_type": "markdown",
   "id": "a051675d",
   "metadata": {},
   "source": [
    "## Remove"
   ]
  },
  {
   "cell_type": "code",
   "execution_count": 14,
   "id": "33e7e646",
   "metadata": {},
   "outputs": [
    {
     "data": {
      "text/plain": [
       "['pen', 'pencil', 'eraser', 'sharpner', 'scale', 'pencilbox', 'compass']"
      ]
     },
     "execution_count": 14,
     "metadata": {},
     "output_type": "execute_result"
    }
   ],
   "source": [
    "list_of_items.remove(\"compass\")\n",
    "list_of_items"
   ]
  },
  {
   "cell_type": "markdown",
   "id": "093fb558",
   "metadata": {},
   "source": [
    "## Pop"
   ]
  },
  {
   "cell_type": "code",
   "execution_count": 15,
   "id": "68e8aea3",
   "metadata": {},
   "outputs": [
    {
     "data": {
      "text/plain": [
       "['pen', 'pencil', 'eraser', 'sharpner', 'scale', 'pencilbox']"
      ]
     },
     "execution_count": 15,
     "metadata": {},
     "output_type": "execute_result"
    }
   ],
   "source": [
    "list_of_items.pop()\n",
    "list_of_items"
   ]
  },
  {
   "cell_type": "code",
   "execution_count": 16,
   "id": "b57d9a9f",
   "metadata": {},
   "outputs": [
    {
     "data": {
      "text/plain": [
       "['pen', 'pencil', 'eraser', 'scale', 'pencilbox']"
      ]
     },
     "execution_count": 16,
     "metadata": {},
     "output_type": "execute_result"
    }
   ],
   "source": [
    "list_of_items.pop(3)\n",
    "list_of_items"
   ]
  },
  {
   "cell_type": "markdown",
   "id": "a9e9c3ef",
   "metadata": {},
   "source": [
    "## Index"
   ]
  },
  {
   "cell_type": "code",
   "execution_count": 17,
   "id": "de8b616b",
   "metadata": {},
   "outputs": [
    {
     "data": {
      "text/plain": [
       "3"
      ]
     },
     "execution_count": 17,
     "metadata": {},
     "output_type": "execute_result"
    }
   ],
   "source": [
    "list_of_items.index(\"scale\")"
   ]
  },
  {
   "cell_type": "markdown",
   "id": "e64813ad",
   "metadata": {},
   "source": [
    "## Count"
   ]
  },
  {
   "cell_type": "code",
   "execution_count": 18,
   "id": "3ff0fe20",
   "metadata": {},
   "outputs": [],
   "source": [
    "list_of_items.append(\"scale\")\n",
    "list_of_items.append(\"scale\")\n",
    "list_of_items.append(\"scale\")"
   ]
  },
  {
   "cell_type": "code",
   "execution_count": 19,
   "id": "386e6ec0",
   "metadata": {},
   "outputs": [
    {
     "data": {
      "text/plain": [
       "4"
      ]
     },
     "execution_count": 19,
     "metadata": {},
     "output_type": "execute_result"
    }
   ],
   "source": [
    "list_of_items.count(\"scale\")"
   ]
  },
  {
   "cell_type": "markdown",
   "id": "87c3c3c9",
   "metadata": {},
   "source": [
    "## Sort"
   ]
  },
  {
   "cell_type": "code",
   "execution_count": 20,
   "id": "a76c8cdd",
   "metadata": {},
   "outputs": [
    {
     "data": {
      "text/plain": [
       "['eraser', 'pen', 'pencil', 'pencilbox', 'scale', 'scale', 'scale', 'scale']"
      ]
     },
     "execution_count": 20,
     "metadata": {},
     "output_type": "execute_result"
    }
   ],
   "source": [
    "list_of_items.sort()\n",
    "list_of_items"
   ]
  },
  {
   "cell_type": "code",
   "execution_count": 21,
   "id": "dfa31481",
   "metadata": {},
   "outputs": [
    {
     "data": {
      "text/plain": [
       "['scale', 'scale', 'scale', 'scale', 'pencilbox', 'pencil', 'pen', 'eraser']"
      ]
     },
     "execution_count": 21,
     "metadata": {},
     "output_type": "execute_result"
    }
   ],
   "source": [
    "list_of_items.sort(reverse = True)\n",
    "list_of_items"
   ]
  },
  {
   "cell_type": "code",
   "execution_count": 22,
   "id": "c4a90744",
   "metadata": {},
   "outputs": [
    {
     "data": {
      "text/plain": [
       "['scale', 'scale', 'scale', 'scale', 'pencilbox', 'pencil', 'pen', 'eraser']"
      ]
     },
     "execution_count": 22,
     "metadata": {},
     "output_type": "execute_result"
    }
   ],
   "source": [
    "list_of_items2 = list_of_items.copy()\n",
    "list_of_items2"
   ]
  },
  {
   "cell_type": "markdown",
   "id": "7c6a0260",
   "metadata": {},
   "source": [
    "# 2D Lists"
   ]
  },
  {
   "cell_type": "code",
   "execution_count": 23,
   "id": "1105d4ce",
   "metadata": {},
   "outputs": [
    {
     "name": "stdout",
     "output_type": "stream",
     "text": [
      "[[1, 2, 3], [4, 5, 6], [7, 8, 9]]\n"
     ]
    }
   ],
   "source": [
    "list_2d = [[1,2,3],[4,5,6],[7,8,9]]\n",
    "print(list_2d)"
   ]
  },
  {
   "cell_type": "code",
   "execution_count": 24,
   "id": "d068bc8b",
   "metadata": {},
   "outputs": [
    {
     "name": "stdout",
     "output_type": "stream",
     "text": [
      "[1, 2, 3] 1\n",
      "[1, 2, 3] 2\n",
      "[1, 2, 3] 3\n",
      "[4, 5, 6] 4\n",
      "[4, 5, 6] 5\n",
      "[4, 5, 6] 6\n",
      "[7, 8, 9] 7\n",
      "[7, 8, 9] 8\n",
      "[7, 8, 9] 9\n"
     ]
    }
   ],
   "source": [
    "for i in list_2d:\n",
    "    for k in i:\n",
    "        print(\"{} {}\".format(i,k))"
   ]
  },
  {
   "cell_type": "markdown",
   "id": "796c2b4a",
   "metadata": {},
   "source": [
    "# Tuples"
   ]
  },
  {
   "cell_type": "code",
   "execution_count": 25,
   "id": "7898fc20",
   "metadata": {},
   "outputs": [
    {
     "name": "stdout",
     "output_type": "stream",
     "text": [
      "<class 'tuple'>\n",
      "('himansh', 20, 169, 'srm university ap', 'guntur')\n"
     ]
    }
   ],
   "source": [
    "bio = \"himansh\", 20, 169, \"srm university ap\", \"guntur\"\n",
    "print(type(bio))\n",
    "print(bio)"
   ]
  },
  {
   "cell_type": "code",
   "execution_count": 26,
   "id": "62d527e0",
   "metadata": {},
   "outputs": [
    {
     "data": {
      "text/plain": [
       "('sunflower', 'lotus', ('himansh', 20, 169, 'srm university ap', 'guntur'))"
      ]
     },
     "execution_count": 26,
     "metadata": {},
     "output_type": "execute_result"
    }
   ],
   "source": [
    "nested_bio = \"sunflower\", \"lotus\", bio\n",
    "nested_bio"
   ]
  },
  {
   "cell_type": "code",
   "execution_count": 27,
   "id": "0f44827c",
   "metadata": {},
   "outputs": [
    {
     "ename": "TypeError",
     "evalue": "'tuple' object does not support item assignment",
     "output_type": "error",
     "traceback": [
      "\u001b[0;31m---------------------------------------------------------------------------\u001b[0m",
      "\u001b[0;31mTypeError\u001b[0m                                 Traceback (most recent call last)",
      "Input \u001b[0;32mIn [27]\u001b[0m, in \u001b[0;36m<cell line: 2>\u001b[0;34m()\u001b[0m\n\u001b[1;32m      1\u001b[0m \u001b[38;5;66;03m# Tuples are immutable\u001b[39;00m\n\u001b[0;32m----> 2\u001b[0m bio[\u001b[38;5;241m2\u001b[39m] \u001b[38;5;241m=\u001b[39m \u001b[38;5;241m170\u001b[39m\n",
      "\u001b[0;31mTypeError\u001b[0m: 'tuple' object does not support item assignment"
     ]
    }
   ],
   "source": [
    "# Tuples are immutable\n",
    "bio[2] = 170"
   ]
  },
  {
   "cell_type": "markdown",
   "id": "b1f2470d",
   "metadata": {},
   "source": [
    "## Count"
   ]
  },
  {
   "cell_type": "code",
   "execution_count": 28,
   "id": "47b6f8ad",
   "metadata": {},
   "outputs": [
    {
     "data": {
      "text/plain": [
       "1"
      ]
     },
     "execution_count": 28,
     "metadata": {},
     "output_type": "execute_result"
    }
   ],
   "source": [
    "bio.count(169)"
   ]
  },
  {
   "cell_type": "code",
   "execution_count": 29,
   "id": "279d468d",
   "metadata": {},
   "outputs": [
    {
     "data": {
      "text/plain": [
       "2"
      ]
     },
     "execution_count": 29,
     "metadata": {},
     "output_type": "execute_result"
    }
   ],
   "source": [
    "bio.index(169)"
   ]
  },
  {
   "cell_type": "markdown",
   "id": "c57551c0",
   "metadata": {},
   "source": [
    "# Sets"
   ]
  },
  {
   "cell_type": "code",
   "execution_count": 30,
   "id": "768faa53",
   "metadata": {},
   "outputs": [],
   "source": [
    "a = {'orange', 'apple', 'banana', 'watermelon'}"
   ]
  },
  {
   "cell_type": "code",
   "execution_count": 31,
   "id": "9a0dcc06",
   "metadata": {},
   "outputs": [
    {
     "data": {
      "text/plain": [
       "set"
      ]
     },
     "execution_count": 31,
     "metadata": {},
     "output_type": "execute_result"
    }
   ],
   "source": [
    "type(a)"
   ]
  },
  {
   "cell_type": "code",
   "execution_count": 32,
   "id": "9bf5f270",
   "metadata": {},
   "outputs": [],
   "source": [
    "b = {'orange', 'avacado', 'blueberry'}"
   ]
  },
  {
   "cell_type": "markdown",
   "id": "7b375c51",
   "metadata": {},
   "source": [
    "## In a, not b"
   ]
  },
  {
   "cell_type": "code",
   "execution_count": 33,
   "id": "1acb71c0",
   "metadata": {},
   "outputs": [
    {
     "data": {
      "text/plain": [
       "{'apple', 'banana', 'watermelon'}"
      ]
     },
     "execution_count": 33,
     "metadata": {},
     "output_type": "execute_result"
    }
   ],
   "source": [
    "a - b"
   ]
  },
  {
   "cell_type": "markdown",
   "id": "b5cdc13e",
   "metadata": {},
   "source": [
    "## In a, b and both"
   ]
  },
  {
   "cell_type": "code",
   "execution_count": 34,
   "id": "e3c8b1a9",
   "metadata": {},
   "outputs": [
    {
     "data": {
      "text/plain": [
       "{'apple', 'avacado', 'banana', 'blueberry', 'orange', 'watermelon'}"
      ]
     },
     "execution_count": 34,
     "metadata": {},
     "output_type": "execute_result"
    }
   ],
   "source": [
    "a | b"
   ]
  },
  {
   "cell_type": "markdown",
   "id": "7000221a",
   "metadata": {},
   "source": [
    "## In a and b"
   ]
  },
  {
   "cell_type": "code",
   "execution_count": 35,
   "id": "40bbed9a",
   "metadata": {},
   "outputs": [
    {
     "data": {
      "text/plain": [
       "{'orange'}"
      ]
     },
     "execution_count": 35,
     "metadata": {},
     "output_type": "execute_result"
    }
   ],
   "source": [
    "a & b"
   ]
  },
  {
   "cell_type": "markdown",
   "id": "2972bad6",
   "metadata": {},
   "source": [
    "## In a or b, but not both"
   ]
  },
  {
   "cell_type": "code",
   "execution_count": 36,
   "id": "d72cd799",
   "metadata": {},
   "outputs": [
    {
     "data": {
      "text/plain": [
       "{'apple', 'avacado', 'banana', 'blueberry', 'watermelon'}"
      ]
     },
     "execution_count": 36,
     "metadata": {},
     "output_type": "execute_result"
    }
   ],
   "source": [
    "a ^ b"
   ]
  },
  {
   "cell_type": "markdown",
   "id": "d6914165",
   "metadata": {},
   "source": [
    "## Add"
   ]
  },
  {
   "cell_type": "code",
   "execution_count": 37,
   "id": "f5bc124c",
   "metadata": {},
   "outputs": [
    {
     "data": {
      "text/plain": [
       "{'apple', 'banana', 'blackberry', 'orange', 'watermelon'}"
      ]
     },
     "execution_count": 37,
     "metadata": {},
     "output_type": "execute_result"
    }
   ],
   "source": [
    "a.add(\"blackberry\")\n",
    "a"
   ]
  },
  {
   "cell_type": "markdown",
   "id": "7323fe99",
   "metadata": {},
   "source": [
    "## Clear"
   ]
  },
  {
   "cell_type": "code",
   "execution_count": 38,
   "id": "ed733ef8",
   "metadata": {},
   "outputs": [
    {
     "data": {
      "text/plain": [
       "set()"
      ]
     },
     "execution_count": 38,
     "metadata": {},
     "output_type": "execute_result"
    }
   ],
   "source": [
    "a.clear()\n",
    "a"
   ]
  },
  {
   "cell_type": "markdown",
   "id": "1165f95e",
   "metadata": {},
   "source": [
    "## Copy"
   ]
  },
  {
   "cell_type": "code",
   "execution_count": 39,
   "id": "b7789032",
   "metadata": {},
   "outputs": [
    {
     "data": {
      "text/plain": [
       "({'avacado', 'blueberry', 'orange'}, {'avacado', 'blueberry', 'orange'})"
      ]
     },
     "execution_count": 39,
     "metadata": {},
     "output_type": "execute_result"
    }
   ],
   "source": [
    "a = b.copy()\n",
    "a,b"
   ]
  },
  {
   "cell_type": "markdown",
   "id": "a06c4c4e",
   "metadata": {},
   "source": [
    "## Difference"
   ]
  },
  {
   "cell_type": "code",
   "execution_count": 40,
   "id": "d13cd804",
   "metadata": {},
   "outputs": [],
   "source": [
    "a.add(\"watermelon\")\n",
    "a.add(\"pineapple\")"
   ]
  },
  {
   "cell_type": "code",
   "execution_count": 41,
   "id": "bafe53cb",
   "metadata": {},
   "outputs": [
    {
     "data": {
      "text/plain": [
       "{'avacado', 'blueberry', 'orange', 'pineapple', 'watermelon'}"
      ]
     },
     "execution_count": 41,
     "metadata": {},
     "output_type": "execute_result"
    }
   ],
   "source": [
    "a.difference(b)\n",
    "a"
   ]
  },
  {
   "cell_type": "markdown",
   "id": "d1e3d2d7",
   "metadata": {},
   "source": [
    "## Difference Update"
   ]
  },
  {
   "cell_type": "code",
   "execution_count": 42,
   "id": "38983b3d",
   "metadata": {},
   "outputs": [
    {
     "data": {
      "text/plain": [
       "{'pineapple', 'watermelon'}"
      ]
     },
     "execution_count": 42,
     "metadata": {},
     "output_type": "execute_result"
    }
   ],
   "source": [
    "a.difference_update(b)\n",
    "a"
   ]
  },
  {
   "cell_type": "code",
   "execution_count": null,
   "id": "41817ffb",
   "metadata": {},
   "outputs": [],
   "source": []
  }
 ],
 "metadata": {
  "kernelspec": {
   "display_name": "Python 3 (ipykernel)",
   "language": "python",
   "name": "python3"
  },
  "language_info": {
   "codemirror_mode": {
    "name": "ipython",
    "version": 3
   },
   "file_extension": ".py",
   "mimetype": "text/x-python",
   "name": "python",
   "nbconvert_exporter": "python",
   "pygments_lexer": "ipython3",
   "version": "3.9.12"
  }
 },
 "nbformat": 4,
 "nbformat_minor": 5
}
