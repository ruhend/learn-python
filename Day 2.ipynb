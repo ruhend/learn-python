{
 "cells": [
  {
   "cell_type": "markdown",
   "id": "ab46ddfb",
   "metadata": {},
   "source": [
    "# @author: @ruhend (Himansh Mudigonda)\n",
    "# Day 2"
   ]
  },
  {
   "cell_type": "markdown",
   "id": "36514dd4",
   "metadata": {},
   "source": [
    "# Today's Learnings\n",
    "1. Decision Making\n",
    "    1. If\n",
    "    2. If Else\n",
    "    3. If Else-if Else\n",
    "2. Iterations\n",
    "    1. For\n",
    "    2. While\n",
    "    3. Nested Loops\n",
    "    4. Break and Pass\n",
    "3. Lists\n",
    "4. 2D Lists\n",
    "5. Tuples\n",
    "6. Sets\n",
    "7. Dictionaries\n",
    "8. Indexing\n",
    "9. Functions and Return\n",
    "10. Keywords and Arguments\n",
    "11. Nested Function Calls\n",
    "12. Variable Scope\n",
    "13. Args and Kw\n",
    "14. String Format\n",
    "15. Random Numbers"
   ]
  },
  {
   "cell_type": "code",
   "execution_count": null,
   "id": "aa81616f",
   "metadata": {},
   "outputs": [],
   "source": []
  }
 ],
 "metadata": {
  "kernelspec": {
   "display_name": "Python 3 (ipykernel)",
   "language": "python",
   "name": "python3"
  },
  "language_info": {
   "codemirror_mode": {
    "name": "ipython",
    "version": 3
   },
   "file_extension": ".py",
   "mimetype": "text/x-python",
   "name": "python",
   "nbconvert_exporter": "python",
   "pygments_lexer": "ipython3",
   "version": "3.9.12"
  }
 },
 "nbformat": 4,
 "nbformat_minor": 5
}
